{
 "cells": [
  {
   "cell_type": "markdown",
   "metadata": {},
   "source": [
    "# Project description\n",
    "\n",
    "Sweet Lift Taxi company has collected historical data on taxi orders at airports. To attract more drivers during peak hours, we need to predict the amount of taxi orders for the next hour. Build a model for such a prediction.\n",
    "\n",
    "The RMSE metric on the test set should not be more than 48.\n",
    "\n",
    "## Project instructions\n",
    "\n",
    "1. Download the data and resample it by one hour.\n",
    "2. Analyze the data.\n",
    "3. Train different models with different hyperparameters. The test sample should be 10% of the initial dataset. \n",
    "4. Test the data using the test sample and provide a conclusion.\n",
    "\n",
    "## Data description\n",
    "\n",
    "The data is stored in file `taxi.csv`. The number of orders is in the '*num_orders*' column."
   ]
  },
  {
   "cell_type": "code",
   "execution_count": 39,
   "metadata": {},
   "outputs": [],
   "source": [
    "# import pandas and numpy for data preprocessing and manipulation\n",
    "import numpy as np\n",
    "import pandas as pd\n",
    "\n",
    "\n",
    "# matplotlib and seaborn for visualization\n",
    "import matplotlib.pyplot as plt\n",
    "import seaborn as sns\n",
    "\n",
    "# import module for splitting and cross-validation using gridsearch\n",
    "from sklearn.model_selection import train_test_split, GridSearchCV, cross_val_score\n",
    "\n",
    "# import metric to measure quality of model\n",
    "from sklearn.metrics import mean_squared_error\n",
    "from sklearn.metrics import make_scorer\n",
    "from sklearn.metrics import mean_absolute_error\n",
    "#from sklearn.metrics import root_mean_squared_error\n",
    "\n",
    "from sklearn.pipeline import Pipeline\n",
    "from sklearn.preprocessing import StandardScaler \n",
    "\n",
    "# import time series split\n",
    "from sklearn.model_selection import TimeSeriesSplit\n",
    "\n",
    "\n",
    "# import statistics models\n",
    "from statsmodels.tsa.seasonal import seasonal_decompose\n",
    "from statsmodels.tsa.stattools import adfuller\n",
    "\n",
    "# import machine learning models\n",
    "from sklearn.linear_model import LinearRegression # import linear regression algorithm\n",
    "from sklearn.ensemble import RandomForestRegressor # import random forest algorithm\n",
    "from lightgbm import LGBMRegressor # import lightgbm regressor\n",
    "from xgboost import XGBRegressor # import xgboost regressor\n",
    "from sklearn.neighbors import KNeighborsRegressor "
   ]
  },
  {
   "cell_type": "code",
   "execution_count": 40,
   "metadata": {
    "scrolled": true
   },
   "outputs": [],
   "source": [
    "#pip install scikit-learn==1.3.1 --user"
   ]
  },
  {
   "cell_type": "code",
   "execution_count": 41,
   "metadata": {},
   "outputs": [
    {
     "name": "stdout",
     "output_type": "stream",
     "text": [
      "Scikit-learn version: 0.24.1\n",
      "XGBoost version: 1.5.1\n"
     ]
    }
   ],
   "source": [
    "import sklearn\n",
    "import xgboost\n",
    "print(\"Scikit-learn version:\", sklearn.__version__)\n",
    "print(\"XGBoost version:\", xgboost.__version__)"
   ]
  },
  {
   "cell_type": "code",
   "execution_count": 42,
   "metadata": {},
   "outputs": [],
   "source": [
    "# read the data\n",
    "df = pd.read_csv('/datasets/taxi.csv',index_col=[0], parse_dates=[0])"
   ]
  },
  {
   "cell_type": "code",
   "execution_count": 43,
   "metadata": {},
   "outputs": [
    {
     "name": "stdout",
     "output_type": "stream",
     "text": [
      "<class 'pandas.core.frame.DataFrame'>\n",
      "DatetimeIndex: 26496 entries, 2018-03-01 00:00:00 to 2018-08-31 23:50:00\n",
      "Data columns (total 1 columns):\n",
      " #   Column      Non-Null Count  Dtype\n",
      "---  ------      --------------  -----\n",
      " 0   num_orders  26496 non-null  int64\n",
      "dtypes: int64(1)\n",
      "memory usage: 414.0 KB\n"
     ]
    }
   ],
   "source": [
    "df.info()"
   ]
  },
  {
   "cell_type": "code",
   "execution_count": 44,
   "metadata": {},
   "outputs": [
    {
     "data": {
      "text/html": [
       "<div>\n",
       "<style scoped>\n",
       "    .dataframe tbody tr th:only-of-type {\n",
       "        vertical-align: middle;\n",
       "    }\n",
       "\n",
       "    .dataframe tbody tr th {\n",
       "        vertical-align: top;\n",
       "    }\n",
       "\n",
       "    .dataframe thead th {\n",
       "        text-align: right;\n",
       "    }\n",
       "</style>\n",
       "<table border=\"1\" class=\"dataframe\">\n",
       "  <thead>\n",
       "    <tr style=\"text-align: right;\">\n",
       "      <th></th>\n",
       "      <th>num_orders</th>\n",
       "    </tr>\n",
       "    <tr>\n",
       "      <th>datetime</th>\n",
       "      <th></th>\n",
       "    </tr>\n",
       "  </thead>\n",
       "  <tbody>\n",
       "    <tr>\n",
       "      <th>2018-03-01 00:00:00</th>\n",
       "      <td>9</td>\n",
       "    </tr>\n",
       "    <tr>\n",
       "      <th>2018-03-01 00:10:00</th>\n",
       "      <td>14</td>\n",
       "    </tr>\n",
       "    <tr>\n",
       "      <th>2018-03-01 00:20:00</th>\n",
       "      <td>28</td>\n",
       "    </tr>\n",
       "    <tr>\n",
       "      <th>2018-03-01 00:30:00</th>\n",
       "      <td>20</td>\n",
       "    </tr>\n",
       "    <tr>\n",
       "      <th>2018-03-01 00:40:00</th>\n",
       "      <td>32</td>\n",
       "    </tr>\n",
       "  </tbody>\n",
       "</table>\n",
       "</div>"
      ],
      "text/plain": [
       "                     num_orders\n",
       "datetime                       \n",
       "2018-03-01 00:00:00           9\n",
       "2018-03-01 00:10:00          14\n",
       "2018-03-01 00:20:00          28\n",
       "2018-03-01 00:30:00          20\n",
       "2018-03-01 00:40:00          32"
      ]
     },
     "execution_count": 44,
     "metadata": {},
     "output_type": "execute_result"
    }
   ],
   "source": [
    "df.head(5)"
   ]
  },
  {
   "cell_type": "markdown",
   "metadata": {},
   "source": [
    "## Preparation"
   ]
  },
  {
   "cell_type": "code",
   "execution_count": 45,
   "metadata": {},
   "outputs": [
    {
     "name": "stdout",
     "output_type": "stream",
     "text": [
      "True\n"
     ]
    }
   ],
   "source": [
    "# For time series data, datetime column should be the table index and we can see it already is. \n",
    "# There are also no null values \n",
    "# Check dates are in chronological order \n",
    "print(df.index.is_monotonic_increasing) # Since the attribute returned \"True\", that means the order is chronological!\n"
   ]
  },
  {
   "cell_type": "code",
   "execution_count": 46,
   "metadata": {},
   "outputs": [
    {
     "name": "stdout",
     "output_type": "stream",
     "text": [
      "Minimum timestamp 2018-03-01 00:00:00\n",
      "\n",
      "Maximum timestamp 2018-08-31 23:50:00\n"
     ]
    }
   ],
   "source": [
    "# Look at start and end dates\n",
    "print('Minimum timestamp', df.index.min())\n",
    "print()\n",
    "print('Maximum timestamp', df.index.max())\n",
    "\n",
    "# earliest start date is March 1st and end date is August 31st"
   ]
  },
  {
   "cell_type": "code",
   "execution_count": 47,
   "metadata": {},
   "outputs": [
    {
     "data": {
      "text/html": [
       "<div>\n",
       "<style scoped>\n",
       "    .dataframe tbody tr th:only-of-type {\n",
       "        vertical-align: middle;\n",
       "    }\n",
       "\n",
       "    .dataframe tbody tr th {\n",
       "        vertical-align: top;\n",
       "    }\n",
       "\n",
       "    .dataframe thead th {\n",
       "        text-align: right;\n",
       "    }\n",
       "</style>\n",
       "<table border=\"1\" class=\"dataframe\">\n",
       "  <thead>\n",
       "    <tr style=\"text-align: right;\">\n",
       "      <th></th>\n",
       "      <th>num_orders</th>\n",
       "    </tr>\n",
       "    <tr>\n",
       "      <th>datetime</th>\n",
       "      <th></th>\n",
       "    </tr>\n",
       "  </thead>\n",
       "  <tbody>\n",
       "    <tr>\n",
       "      <th>2018-03-01 00:00:00</th>\n",
       "      <td>9</td>\n",
       "    </tr>\n",
       "    <tr>\n",
       "      <th>2018-03-01 00:10:00</th>\n",
       "      <td>14</td>\n",
       "    </tr>\n",
       "    <tr>\n",
       "      <th>2018-03-01 00:20:00</th>\n",
       "      <td>28</td>\n",
       "    </tr>\n",
       "    <tr>\n",
       "      <th>2018-03-01 00:30:00</th>\n",
       "      <td>20</td>\n",
       "    </tr>\n",
       "    <tr>\n",
       "      <th>2018-03-01 00:40:00</th>\n",
       "      <td>32</td>\n",
       "    </tr>\n",
       "    <tr>\n",
       "      <th>2018-03-01 00:50:00</th>\n",
       "      <td>21</td>\n",
       "    </tr>\n",
       "    <tr>\n",
       "      <th>2018-03-01 01:00:00</th>\n",
       "      <td>7</td>\n",
       "    </tr>\n",
       "    <tr>\n",
       "      <th>2018-03-01 01:10:00</th>\n",
       "      <td>5</td>\n",
       "    </tr>\n",
       "    <tr>\n",
       "      <th>2018-03-01 01:20:00</th>\n",
       "      <td>17</td>\n",
       "    </tr>\n",
       "    <tr>\n",
       "      <th>2018-03-01 01:30:00</th>\n",
       "      <td>12</td>\n",
       "    </tr>\n",
       "  </tbody>\n",
       "</table>\n",
       "</div>"
      ],
      "text/plain": [
       "                     num_orders\n",
       "datetime                       \n",
       "2018-03-01 00:00:00           9\n",
       "2018-03-01 00:10:00          14\n",
       "2018-03-01 00:20:00          28\n",
       "2018-03-01 00:30:00          20\n",
       "2018-03-01 00:40:00          32\n",
       "2018-03-01 00:50:00          21\n",
       "2018-03-01 01:00:00           7\n",
       "2018-03-01 01:10:00           5\n",
       "2018-03-01 01:20:00          17\n",
       "2018-03-01 01:30:00          12"
      ]
     },
     "execution_count": 47,
     "metadata": {},
     "output_type": "execute_result"
    }
   ],
   "source": [
    "df.head(10)\n",
    "# The time is in increments of 10 minute intervals"
   ]
  },
  {
   "cell_type": "markdown",
   "metadata": {},
   "source": [
    "I will resample the data into 1-hour intervals by aggregating every 10-minute segment within each hour. The most appropriate aggregation method is the sum, as Sweet Lift Taxi aims to predict the total number of taxi orders per hour. The company is not concerned with the number of orders every 10 minutes but instead prefers a view of demand on an hourly basis to better inform operational decisions."
   ]
  },
  {
   "cell_type": "code",
   "execution_count": 48,
   "metadata": {},
   "outputs": [
    {
     "data": {
      "text/html": [
       "<div>\n",
       "<style scoped>\n",
       "    .dataframe tbody tr th:only-of-type {\n",
       "        vertical-align: middle;\n",
       "    }\n",
       "\n",
       "    .dataframe tbody tr th {\n",
       "        vertical-align: top;\n",
       "    }\n",
       "\n",
       "    .dataframe thead th {\n",
       "        text-align: right;\n",
       "    }\n",
       "</style>\n",
       "<table border=\"1\" class=\"dataframe\">\n",
       "  <thead>\n",
       "    <tr style=\"text-align: right;\">\n",
       "      <th></th>\n",
       "      <th>num_orders_hourly</th>\n",
       "    </tr>\n",
       "    <tr>\n",
       "      <th>datetime</th>\n",
       "      <th></th>\n",
       "    </tr>\n",
       "  </thead>\n",
       "  <tbody>\n",
       "    <tr>\n",
       "      <th>2018-03-01 00:00:00</th>\n",
       "      <td>124</td>\n",
       "    </tr>\n",
       "    <tr>\n",
       "      <th>2018-03-01 01:00:00</th>\n",
       "      <td>85</td>\n",
       "    </tr>\n",
       "    <tr>\n",
       "      <th>2018-03-01 02:00:00</th>\n",
       "      <td>71</td>\n",
       "    </tr>\n",
       "    <tr>\n",
       "      <th>2018-03-01 03:00:00</th>\n",
       "      <td>66</td>\n",
       "    </tr>\n",
       "    <tr>\n",
       "      <th>2018-03-01 04:00:00</th>\n",
       "      <td>43</td>\n",
       "    </tr>\n",
       "    <tr>\n",
       "      <th>...</th>\n",
       "      <td>...</td>\n",
       "    </tr>\n",
       "    <tr>\n",
       "      <th>2018-08-31 19:00:00</th>\n",
       "      <td>136</td>\n",
       "    </tr>\n",
       "    <tr>\n",
       "      <th>2018-08-31 20:00:00</th>\n",
       "      <td>154</td>\n",
       "    </tr>\n",
       "    <tr>\n",
       "      <th>2018-08-31 21:00:00</th>\n",
       "      <td>159</td>\n",
       "    </tr>\n",
       "    <tr>\n",
       "      <th>2018-08-31 22:00:00</th>\n",
       "      <td>223</td>\n",
       "    </tr>\n",
       "    <tr>\n",
       "      <th>2018-08-31 23:00:00</th>\n",
       "      <td>205</td>\n",
       "    </tr>\n",
       "  </tbody>\n",
       "</table>\n",
       "<p>4416 rows × 1 columns</p>\n",
       "</div>"
      ],
      "text/plain": [
       "                     num_orders_hourly\n",
       "datetime                              \n",
       "2018-03-01 00:00:00                124\n",
       "2018-03-01 01:00:00                 85\n",
       "2018-03-01 02:00:00                 71\n",
       "2018-03-01 03:00:00                 66\n",
       "2018-03-01 04:00:00                 43\n",
       "...                                ...\n",
       "2018-08-31 19:00:00                136\n",
       "2018-08-31 20:00:00                154\n",
       "2018-08-31 21:00:00                159\n",
       "2018-08-31 22:00:00                223\n",
       "2018-08-31 23:00:00                205\n",
       "\n",
       "[4416 rows x 1 columns]"
      ]
     },
     "execution_count": 48,
     "metadata": {},
     "output_type": "execute_result"
    }
   ],
   "source": [
    "df = df.resample('1h').sum()\n",
    "df = df.rename(columns = {'num_orders': 'num_orders_hourly'})\n",
    "df"
   ]
  },
  {
   "cell_type": "markdown",
   "metadata": {},
   "source": [
    "## Analysis"
   ]
  },
  {
   "cell_type": "code",
   "execution_count": 49,
   "metadata": {
    "scrolled": true
   },
   "outputs": [
    {
     "data": {
      "text/html": [
       "<div>\n",
       "<style scoped>\n",
       "    .dataframe tbody tr th:only-of-type {\n",
       "        vertical-align: middle;\n",
       "    }\n",
       "\n",
       "    .dataframe tbody tr th {\n",
       "        vertical-align: top;\n",
       "    }\n",
       "\n",
       "    .dataframe thead th {\n",
       "        text-align: right;\n",
       "    }\n",
       "</style>\n",
       "<table border=\"1\" class=\"dataframe\">\n",
       "  <thead>\n",
       "    <tr style=\"text-align: right;\">\n",
       "      <th></th>\n",
       "      <th>num_orders_hourly</th>\n",
       "    </tr>\n",
       "  </thead>\n",
       "  <tbody>\n",
       "    <tr>\n",
       "      <th>count</th>\n",
       "      <td>4416.000000</td>\n",
       "    </tr>\n",
       "    <tr>\n",
       "      <th>mean</th>\n",
       "      <td>84.422781</td>\n",
       "    </tr>\n",
       "    <tr>\n",
       "      <th>std</th>\n",
       "      <td>45.023853</td>\n",
       "    </tr>\n",
       "    <tr>\n",
       "      <th>min</th>\n",
       "      <td>0.000000</td>\n",
       "    </tr>\n",
       "    <tr>\n",
       "      <th>25%</th>\n",
       "      <td>54.000000</td>\n",
       "    </tr>\n",
       "    <tr>\n",
       "      <th>50%</th>\n",
       "      <td>78.000000</td>\n",
       "    </tr>\n",
       "    <tr>\n",
       "      <th>75%</th>\n",
       "      <td>107.000000</td>\n",
       "    </tr>\n",
       "    <tr>\n",
       "      <th>max</th>\n",
       "      <td>462.000000</td>\n",
       "    </tr>\n",
       "  </tbody>\n",
       "</table>\n",
       "</div>"
      ],
      "text/plain": [
       "       num_orders_hourly\n",
       "count        4416.000000\n",
       "mean           84.422781\n",
       "std            45.023853\n",
       "min             0.000000\n",
       "25%            54.000000\n",
       "50%            78.000000\n",
       "75%           107.000000\n",
       "max           462.000000"
      ]
     },
     "execution_count": 49,
     "metadata": {},
     "output_type": "execute_result"
    }
   ],
   "source": [
    "# Summary statistics -look at distribution of data \n",
    "df.describe()"
   ]
  },
  {
   "cell_type": "markdown",
   "metadata": {},
   "source": [
    "On average, there are about 84 taxi rides ordered every hour, with a standard deviation of 45. \n",
    "\n",
    "The mean is pretty similar to the median, 78 taxi rides ordered every hour, but since the mean is larger, that suggests the data is right skewed, which may suggest outliers. "
   ]
  },
  {
   "cell_type": "code",
   "execution_count": 50,
   "metadata": {},
   "outputs": [
    {
     "data": {
      "image/png": "[encoded data removed]",
      "text/plain": [
       "<Figure size 1600x1000 with 1 Axes>"
      ]
     },
     "metadata": {},
     "output_type": "display_data"
    }
   ],
   "source": [
    "# Histogram \n",
    "\n",
    "# Set style\n",
    "sns.set(style=\"white\", palette=\"bright\")\n",
    "plt.rcParams['axes.linewidth'] = 0.9 #border thickness\n",
    "\n",
    "# Create the figure and axis\n",
    "fig, ax = plt.subplots(figsize=(16, 10)) #creates one figure for multiple subplots #ax multiple plots multiple datasets (all plots drawn on same axis)\n",
    "\n",
    "# Plot histograms \n",
    "sns.histplot(df, bins=30, ax=ax, kde=True, color= 'orange', legend=True)\n",
    "\n",
    "# title and legend\n",
    "#ax.set_title('Distribution of Number of Taxi Orders Placed')\n",
    "ax.set(xlabel=\"Number of taxi orders\", title=\"Distribution of Number of Taxi Orders Placed\")\n",
    "#ax.legend() #add labels to plot\n",
    "\n",
    "\n",
    "plt.show()"
   ]
  },
  {
   "cell_type": "markdown",
   "metadata": {},
   "source": [
    "##### Time series plots\n"
   ]
  },
  {
   "cell_type": "code",
   "execution_count": 51,
   "metadata": {
    "scrolled": true
   },
   "outputs": [
    {
     "data": {
      "image/png": "[encoded data removed]",
      "text/plain": [
       "<Figure size 1500x900 with 1 Axes>"
      ]
     },
     "metadata": {},
     "output_type": "display_data"
    }
   ],
   "source": [
    "df.plot(figsize = (15, 9), legend = False)\n",
    "plt.title('Number of Taxi Orders From March 2018 to August 2018, Resampled By Every 1 Hour')\n",
    "plt.xlabel('Datetime')\n",
    "plt.ylabel('Number of Taxi Orders')\n",
    "plt.yticks(np.arange(0, 225, 25))\n",
    "\n",
    "\n",
    "plt.show()"
   ]
  },
  {
   "cell_type": "markdown",
   "metadata": {},
   "source": [
    "There is an upward trend in the number of taxi orders as the graph goes from March 2018 to August 2018.  The trend seems to be relatively constant from March to the June, but from July the number of taxi orders increases. July and August are the summer months, so there may be more travel during these months. "
   ]
  },
  {
   "cell_type": "code",
   "execution_count": 52,
   "metadata": {
    "scrolled": true
   },
   "outputs": [
    {
     "data": {
      "image/png": "[encoded data removed]",
      "text/plain": [
       "<Figure size 1500x900 with 1 Axes>"
      ]
     },
     "metadata": {},
     "output_type": "display_data"
    }
   ],
   "source": [
    "## Rolling average \n",
    "\n",
    "df['rolling_mean'] = df.rolling(24).mean() \n",
    "\n",
    "df.plot(figsize = (15, 9))\n",
    "\n",
    "plt.legend(['Number of Taxi Orders', 'Rolling Mean'])\n",
    "plt.title('Number of Taxi Orders From March 2018 to August 2018, Resampled By Every 1 Hour, With Rolling Mean')\n",
    "plt.xlabel('Datetime')\n",
    "plt.yticks(np.arange(0, 225, 25))\n",
    "\n",
    "for y_tick in plt.gca().get_yticks():\n",
    "    plt.axhline(y = y_tick, color = 'lightgray', linestyle = '-', alpha = 0.25)\n",
    "\n",
    "plt.show()\n"
   ]
  },
  {
   "cell_type": "markdown",
   "metadata": {},
   "source": [
    "The Rolling mean does not make it any clearer that there is an upward trend."
   ]
  },
  {
   "cell_type": "code",
   "execution_count": 53,
   "metadata": {},
   "outputs": [
    {
     "data": {
      "text/html": [
       "<div>\n",
       "<style scoped>\n",
       "    .dataframe tbody tr th:only-of-type {\n",
       "        vertical-align: middle;\n",
       "    }\n",
       "\n",
       "    .dataframe tbody tr th {\n",
       "        vertical-align: top;\n",
       "    }\n",
       "\n",
       "    .dataframe thead th {\n",
       "        text-align: right;\n",
       "    }\n",
       "</style>\n",
       "<table border=\"1\" class=\"dataframe\">\n",
       "  <thead>\n",
       "    <tr style=\"text-align: right;\">\n",
       "      <th></th>\n",
       "      <th>num_orders_hourly</th>\n",
       "      <th>rolling_mean</th>\n",
       "    </tr>\n",
       "    <tr>\n",
       "      <th>datetime</th>\n",
       "      <th></th>\n",
       "      <th></th>\n",
       "    </tr>\n",
       "  </thead>\n",
       "  <tbody>\n",
       "    <tr>\n",
       "      <th>2018-03-01 00:00:00</th>\n",
       "      <td>124</td>\n",
       "      <td>NaN</td>\n",
       "    </tr>\n",
       "    <tr>\n",
       "      <th>2018-03-01 01:00:00</th>\n",
       "      <td>85</td>\n",
       "      <td>NaN</td>\n",
       "    </tr>\n",
       "    <tr>\n",
       "      <th>2018-03-01 02:00:00</th>\n",
       "      <td>71</td>\n",
       "      <td>NaN</td>\n",
       "    </tr>\n",
       "    <tr>\n",
       "      <th>2018-03-01 03:00:00</th>\n",
       "      <td>66</td>\n",
       "      <td>NaN</td>\n",
       "    </tr>\n",
       "    <tr>\n",
       "      <th>2018-03-01 04:00:00</th>\n",
       "      <td>43</td>\n",
       "      <td>NaN</td>\n",
       "    </tr>\n",
       "    <tr>\n",
       "      <th>...</th>\n",
       "      <td>...</td>\n",
       "      <td>...</td>\n",
       "    </tr>\n",
       "    <tr>\n",
       "      <th>2018-08-31 19:00:00</th>\n",
       "      <td>136</td>\n",
       "      <td>167.541667</td>\n",
       "    </tr>\n",
       "    <tr>\n",
       "      <th>2018-08-31 20:00:00</th>\n",
       "      <td>154</td>\n",
       "      <td>168.041667</td>\n",
       "    </tr>\n",
       "    <tr>\n",
       "      <th>2018-08-31 21:00:00</th>\n",
       "      <td>159</td>\n",
       "      <td>166.416667</td>\n",
       "    </tr>\n",
       "    <tr>\n",
       "      <th>2018-08-31 22:00:00</th>\n",
       "      <td>223</td>\n",
       "      <td>169.125000</td>\n",
       "    </tr>\n",
       "    <tr>\n",
       "      <th>2018-08-31 23:00:00</th>\n",
       "      <td>205</td>\n",
       "      <td>167.416667</td>\n",
       "    </tr>\n",
       "  </tbody>\n",
       "</table>\n",
       "<p>4416 rows × 2 columns</p>\n",
       "</div>"
      ],
      "text/plain": [
       "                     num_orders_hourly  rolling_mean\n",
       "datetime                                            \n",
       "2018-03-01 00:00:00                124           NaN\n",
       "2018-03-01 01:00:00                 85           NaN\n",
       "2018-03-01 02:00:00                 71           NaN\n",
       "2018-03-01 03:00:00                 66           NaN\n",
       "2018-03-01 04:00:00                 43           NaN\n",
       "...                                ...           ...\n",
       "2018-08-31 19:00:00                136    167.541667\n",
       "2018-08-31 20:00:00                154    168.041667\n",
       "2018-08-31 21:00:00                159    166.416667\n",
       "2018-08-31 22:00:00                223    169.125000\n",
       "2018-08-31 23:00:00                205    167.416667\n",
       "\n",
       "[4416 rows x 2 columns]"
      ]
     },
     "execution_count": 53,
     "metadata": {},
     "output_type": "execute_result"
    }
   ],
   "source": [
    "df"
   ]
  },
  {
   "cell_type": "code",
   "execution_count": 54,
   "metadata": {},
   "outputs": [],
   "source": [
    "df.drop('rolling_mean', axis=1, inplace=True)\n"
   ]
  },
  {
   "cell_type": "code",
   "execution_count": 55,
   "metadata": {},
   "outputs": [
    {
     "data": {
      "text/html": [
       "<div>\n",
       "<style scoped>\n",
       "    .dataframe tbody tr th:only-of-type {\n",
       "        vertical-align: middle;\n",
       "    }\n",
       "\n",
       "    .dataframe tbody tr th {\n",
       "        vertical-align: top;\n",
       "    }\n",
       "\n",
       "    .dataframe thead th {\n",
       "        text-align: right;\n",
       "    }\n",
       "</style>\n",
       "<table border=\"1\" class=\"dataframe\">\n",
       "  <thead>\n",
       "    <tr style=\"text-align: right;\">\n",
       "      <th></th>\n",
       "      <th>num_orders_hourly</th>\n",
       "    </tr>\n",
       "    <tr>\n",
       "      <th>datetime</th>\n",
       "      <th></th>\n",
       "    </tr>\n",
       "  </thead>\n",
       "  <tbody>\n",
       "    <tr>\n",
       "      <th>2018-03-01 00:00:00</th>\n",
       "      <td>124</td>\n",
       "    </tr>\n",
       "    <tr>\n",
       "      <th>2018-03-01 01:00:00</th>\n",
       "      <td>85</td>\n",
       "    </tr>\n",
       "    <tr>\n",
       "      <th>2018-03-01 02:00:00</th>\n",
       "      <td>71</td>\n",
       "    </tr>\n",
       "    <tr>\n",
       "      <th>2018-03-01 03:00:00</th>\n",
       "      <td>66</td>\n",
       "    </tr>\n",
       "    <tr>\n",
       "      <th>2018-03-01 04:00:00</th>\n",
       "      <td>43</td>\n",
       "    </tr>\n",
       "    <tr>\n",
       "      <th>...</th>\n",
       "      <td>...</td>\n",
       "    </tr>\n",
       "    <tr>\n",
       "      <th>2018-08-31 19:00:00</th>\n",
       "      <td>136</td>\n",
       "    </tr>\n",
       "    <tr>\n",
       "      <th>2018-08-31 20:00:00</th>\n",
       "      <td>154</td>\n",
       "    </tr>\n",
       "    <tr>\n",
       "      <th>2018-08-31 21:00:00</th>\n",
       "      <td>159</td>\n",
       "    </tr>\n",
       "    <tr>\n",
       "      <th>2018-08-31 22:00:00</th>\n",
       "      <td>223</td>\n",
       "    </tr>\n",
       "    <tr>\n",
       "      <th>2018-08-31 23:00:00</th>\n",
       "      <td>205</td>\n",
       "    </tr>\n",
       "  </tbody>\n",
       "</table>\n",
       "<p>4416 rows × 1 columns</p>\n",
       "</div>"
      ],
      "text/plain": [
       "                     num_orders_hourly\n",
       "datetime                              \n",
       "2018-03-01 00:00:00                124\n",
       "2018-03-01 01:00:00                 85\n",
       "2018-03-01 02:00:00                 71\n",
       "2018-03-01 03:00:00                 66\n",
       "2018-03-01 04:00:00                 43\n",
       "...                                ...\n",
       "2018-08-31 19:00:00                136\n",
       "2018-08-31 20:00:00                154\n",
       "2018-08-31 21:00:00                159\n",
       "2018-08-31 22:00:00                223\n",
       "2018-08-31 23:00:00                205\n",
       "\n",
       "[4416 rows x 1 columns]"
      ]
     },
     "execution_count": 55,
     "metadata": {},
     "output_type": "execute_result"
    }
   ],
   "source": [
    "df"
   ]
  },
  {
   "cell_type": "code",
   "execution_count": 56,
   "metadata": {},
   "outputs": [
    {
     "name": "stdout",
     "output_type": "stream",
     "text": [
      "P-value:  0.0007322730527364293\n"
     ]
    }
   ],
   "source": [
    "# Check if time series is stationary or nonstationary\n",
    "# Using augmented Dickey-Fuller (adfuller) unit root test \n",
    "\n",
    "train, test = train_test_split(df, shuffle = False, test_size = 0.1)\n",
    "\n",
    "df_stationarityTest = adfuller(train, autolag = 'AIC')\n",
    "print(\"P-value: \", df_stationarityTest[1])\n"
   ]
  },
  {
   "cell_type": "markdown",
   "metadata": {},
   "source": [
    "The p-value is less than 0.05, it is very likely that the dataset is stationary."
   ]
  },
  {
   "cell_type": "code",
   "execution_count": 57,
   "metadata": {},
   "outputs": [
    {
     "data": {
      "text/plain": [
       "Text(0.5, 1.0, 'Trend')"
      ]
     },
     "execution_count": 57,
     "metadata": {},
     "output_type": "execute_result"
    },
    {
     "data": {
      "image/png": "[encoded data removed]",
      "text/plain": [
       "<Figure size 1500x1000 with 1 Axes>"
      ]
     },
     "metadata": {},
     "output_type": "display_data"
    }
   ],
   "source": [
    "### Trends and seasonality\n",
    "\n",
    "decomposed = seasonal_decompose(df)\n",
    "\n",
    "plt.figure(figsize=(6, 8))\n",
    "plt.subplot(311)\n",
    "decomposed.trend.plot(ax=plt.gca(), figsize=(15, 10))\n",
    "plt.title('Trend')"
   ]
  },
  {
   "cell_type": "code",
   "execution_count": 58,
   "metadata": {},
   "outputs": [
    {
     "data": {
      "image/png": "[encoded data removed]",
      "text/plain": [
       "<Figure size 1500x1000 with 1 Axes>"
      ]
     },
     "metadata": {},
     "output_type": "display_data"
    }
   ],
   "source": [
    "# Seasonality\n",
    "plt.subplot(312)\n",
    "decomposed.seasonal.plot(ax=plt.gca(), figsize=(15, 10))\n",
    "plt.title('Seasonality');"
   ]
  },
  {
   "cell_type": "markdown",
   "metadata": {},
   "source": [
    "## Training"
   ]
  },
  {
   "cell_type": "markdown",
   "metadata": {},
   "source": [
    "#### Feature engineering"
   ]
  },
  {
   "cell_type": "code",
   "execution_count": 59,
   "metadata": {},
   "outputs": [
    {
     "data": {
      "text/html": [
       "<div>\n",
       "<style scoped>\n",
       "    .dataframe tbody tr th:only-of-type {\n",
       "        vertical-align: middle;\n",
       "    }\n",
       "\n",
       "    .dataframe tbody tr th {\n",
       "        vertical-align: top;\n",
       "    }\n",
       "\n",
       "    .dataframe thead th {\n",
       "        text-align: right;\n",
       "    }\n",
       "</style>\n",
       "<table border=\"1\" class=\"dataframe\">\n",
       "  <thead>\n",
       "    <tr style=\"text-align: right;\">\n",
       "      <th></th>\n",
       "      <th>num_orders_hourly</th>\n",
       "    </tr>\n",
       "    <tr>\n",
       "      <th>datetime</th>\n",
       "      <th></th>\n",
       "    </tr>\n",
       "  </thead>\n",
       "  <tbody>\n",
       "    <tr>\n",
       "      <th>2018-03-01 00:00:00</th>\n",
       "      <td>124</td>\n",
       "    </tr>\n",
       "    <tr>\n",
       "      <th>2018-03-01 01:00:00</th>\n",
       "      <td>85</td>\n",
       "    </tr>\n",
       "    <tr>\n",
       "      <th>2018-03-01 02:00:00</th>\n",
       "      <td>71</td>\n",
       "    </tr>\n",
       "    <tr>\n",
       "      <th>2018-03-01 03:00:00</th>\n",
       "      <td>66</td>\n",
       "    </tr>\n",
       "    <tr>\n",
       "      <th>2018-03-01 04:00:00</th>\n",
       "      <td>43</td>\n",
       "    </tr>\n",
       "    <tr>\n",
       "      <th>...</th>\n",
       "      <td>...</td>\n",
       "    </tr>\n",
       "    <tr>\n",
       "      <th>2018-08-31 19:00:00</th>\n",
       "      <td>136</td>\n",
       "    </tr>\n",
       "    <tr>\n",
       "      <th>2018-08-31 20:00:00</th>\n",
       "      <td>154</td>\n",
       "    </tr>\n",
       "    <tr>\n",
       "      <th>2018-08-31 21:00:00</th>\n",
       "      <td>159</td>\n",
       "    </tr>\n",
       "    <tr>\n",
       "      <th>2018-08-31 22:00:00</th>\n",
       "      <td>223</td>\n",
       "    </tr>\n",
       "    <tr>\n",
       "      <th>2018-08-31 23:00:00</th>\n",
       "      <td>205</td>\n",
       "    </tr>\n",
       "  </tbody>\n",
       "</table>\n",
       "<p>4416 rows × 1 columns</p>\n",
       "</div>"
      ],
      "text/plain": [
       "                     num_orders_hourly\n",
       "datetime                              \n",
       "2018-03-01 00:00:00                124\n",
       "2018-03-01 01:00:00                 85\n",
       "2018-03-01 02:00:00                 71\n",
       "2018-03-01 03:00:00                 66\n",
       "2018-03-01 04:00:00                 43\n",
       "...                                ...\n",
       "2018-08-31 19:00:00                136\n",
       "2018-08-31 20:00:00                154\n",
       "2018-08-31 21:00:00                159\n",
       "2018-08-31 22:00:00                223\n",
       "2018-08-31 23:00:00                205\n",
       "\n",
       "[4416 rows x 1 columns]"
      ]
     },
     "execution_count": 59,
     "metadata": {},
     "output_type": "execute_result"
    }
   ],
   "source": [
    "df"
   ]
  },
  {
   "cell_type": "code",
   "execution_count": 60,
   "metadata": {},
   "outputs": [
    {
     "data": {
      "text/html": [
       "<div>\n",
       "<style scoped>\n",
       "    .dataframe tbody tr th:only-of-type {\n",
       "        vertical-align: middle;\n",
       "    }\n",
       "\n",
       "    .dataframe tbody tr th {\n",
       "        vertical-align: top;\n",
       "    }\n",
       "\n",
       "    .dataframe thead th {\n",
       "        text-align: right;\n",
       "    }\n",
       "</style>\n",
       "<table border=\"1\" class=\"dataframe\">\n",
       "  <thead>\n",
       "    <tr style=\"text-align: right;\">\n",
       "      <th></th>\n",
       "      <th>num_orders_hourly</th>\n",
       "      <th>month</th>\n",
       "      <th>day</th>\n",
       "      <th>dayofweek</th>\n",
       "      <th>hour</th>\n",
       "      <th>lag_1</th>\n",
       "      <th>lag_2</th>\n",
       "      <th>lag_3</th>\n",
       "      <th>lag_4</th>\n",
       "      <th>lag_5</th>\n",
       "      <th>lag_6</th>\n",
       "      <th>rolling_mean</th>\n",
       "    </tr>\n",
       "    <tr>\n",
       "      <th>datetime</th>\n",
       "      <th></th>\n",
       "      <th></th>\n",
       "      <th></th>\n",
       "      <th></th>\n",
       "      <th></th>\n",
       "      <th></th>\n",
       "      <th></th>\n",
       "      <th></th>\n",
       "      <th></th>\n",
       "      <th></th>\n",
       "      <th></th>\n",
       "      <th></th>\n",
       "    </tr>\n",
       "  </thead>\n",
       "  <tbody>\n",
       "    <tr>\n",
       "      <th>2018-03-01 00:00:00</th>\n",
       "      <td>124</td>\n",
       "      <td>3</td>\n",
       "      <td>1</td>\n",
       "      <td>3</td>\n",
       "      <td>0</td>\n",
       "      <td>NaN</td>\n",
       "      <td>NaN</td>\n",
       "      <td>NaN</td>\n",
       "      <td>NaN</td>\n",
       "      <td>NaN</td>\n",
       "      <td>NaN</td>\n",
       "      <td>NaN</td>\n",
       "    </tr>\n",
       "    <tr>\n",
       "      <th>2018-03-01 01:00:00</th>\n",
       "      <td>85</td>\n",
       "      <td>3</td>\n",
       "      <td>1</td>\n",
       "      <td>3</td>\n",
       "      <td>1</td>\n",
       "      <td>124.0</td>\n",
       "      <td>NaN</td>\n",
       "      <td>NaN</td>\n",
       "      <td>NaN</td>\n",
       "      <td>NaN</td>\n",
       "      <td>NaN</td>\n",
       "      <td>NaN</td>\n",
       "    </tr>\n",
       "    <tr>\n",
       "      <th>2018-03-01 02:00:00</th>\n",
       "      <td>71</td>\n",
       "      <td>3</td>\n",
       "      <td>1</td>\n",
       "      <td>3</td>\n",
       "      <td>2</td>\n",
       "      <td>85.0</td>\n",
       "      <td>124.0</td>\n",
       "      <td>NaN</td>\n",
       "      <td>NaN</td>\n",
       "      <td>NaN</td>\n",
       "      <td>NaN</td>\n",
       "      <td>NaN</td>\n",
       "    </tr>\n",
       "    <tr>\n",
       "      <th>2018-03-01 03:00:00</th>\n",
       "      <td>66</td>\n",
       "      <td>3</td>\n",
       "      <td>1</td>\n",
       "      <td>3</td>\n",
       "      <td>3</td>\n",
       "      <td>71.0</td>\n",
       "      <td>85.0</td>\n",
       "      <td>124.0</td>\n",
       "      <td>NaN</td>\n",
       "      <td>NaN</td>\n",
       "      <td>NaN</td>\n",
       "      <td>NaN</td>\n",
       "    </tr>\n",
       "    <tr>\n",
       "      <th>2018-03-01 04:00:00</th>\n",
       "      <td>43</td>\n",
       "      <td>3</td>\n",
       "      <td>1</td>\n",
       "      <td>3</td>\n",
       "      <td>4</td>\n",
       "      <td>66.0</td>\n",
       "      <td>71.0</td>\n",
       "      <td>85.0</td>\n",
       "      <td>124.0</td>\n",
       "      <td>NaN</td>\n",
       "      <td>NaN</td>\n",
       "      <td>NaN</td>\n",
       "    </tr>\n",
       "  </tbody>\n",
       "</table>\n",
       "</div>"
      ],
      "text/plain": [
       "                     num_orders_hourly  month  day  dayofweek  hour  lag_1  \\\n",
       "datetime                                                                     \n",
       "2018-03-01 00:00:00                124      3    1          3     0    NaN   \n",
       "2018-03-01 01:00:00                 85      3    1          3     1  124.0   \n",
       "2018-03-01 02:00:00                 71      3    1          3     2   85.0   \n",
       "2018-03-01 03:00:00                 66      3    1          3     3   71.0   \n",
       "2018-03-01 04:00:00                 43      3    1          3     4   66.0   \n",
       "\n",
       "                     lag_2  lag_3  lag_4  lag_5  lag_6  rolling_mean  \n",
       "datetime                                                              \n",
       "2018-03-01 00:00:00    NaN    NaN    NaN    NaN    NaN           NaN  \n",
       "2018-03-01 01:00:00    NaN    NaN    NaN    NaN    NaN           NaN  \n",
       "2018-03-01 02:00:00  124.0    NaN    NaN    NaN    NaN           NaN  \n",
       "2018-03-01 03:00:00   85.0  124.0    NaN    NaN    NaN           NaN  \n",
       "2018-03-01 04:00:00   71.0   85.0  124.0    NaN    NaN           NaN  "
      ]
     },
     "execution_count": 60,
     "metadata": {},
     "output_type": "execute_result"
    }
   ],
   "source": [
    "# Create features, namely calendar features, lag features, and the rolling mean. \n",
    "\n",
    "# function to make new features \n",
    "def make_features(data, max_lag, rolling_mean_size):\n",
    "    data['month'] = data.index.month\n",
    "    data['day'] = data.index.day\n",
    "    data['dayofweek'] = data.index.dayofweek\n",
    "    data['hour'] = data.index.hour\n",
    "    \n",
    "    for lag in range(1, max_lag + 1):\n",
    "        data['lag_{}'.format(lag)] = data['num_orders_hourly'].shift(lag) # Adds lag features (previous values of the target variable)\n",
    "\n",
    "    data['rolling_mean'] = data['num_orders_hourly'].shift().rolling(rolling_mean_size).mean()\n",
    "    \n",
    "# make new features \n",
    "df2 = pd.DataFrame(df)\n",
    "make_features(df2, 6, 7)\n",
    "df2.head()"
   ]
  },
  {
   "cell_type": "code",
   "execution_count": 61,
   "metadata": {},
   "outputs": [
    {
     "name": "stdout",
     "output_type": "stream",
     "text": [
      "The time series has 4409 rows and 12 features\n",
      "\n"
     ]
    },
    {
     "data": {
      "text/html": [
       "<div>\n",
       "<style scoped>\n",
       "    .dataframe tbody tr th:only-of-type {\n",
       "        vertical-align: middle;\n",
       "    }\n",
       "\n",
       "    .dataframe tbody tr th {\n",
       "        vertical-align: top;\n",
       "    }\n",
       "\n",
       "    .dataframe thead th {\n",
       "        text-align: right;\n",
       "    }\n",
       "</style>\n",
       "<table border=\"1\" class=\"dataframe\">\n",
       "  <thead>\n",
       "    <tr style=\"text-align: right;\">\n",
       "      <th></th>\n",
       "      <th>num_orders_hourly</th>\n",
       "      <th>month</th>\n",
       "      <th>day</th>\n",
       "      <th>dayofweek</th>\n",
       "      <th>hour</th>\n",
       "      <th>lag_1</th>\n",
       "      <th>lag_2</th>\n",
       "      <th>lag_3</th>\n",
       "      <th>lag_4</th>\n",
       "      <th>lag_5</th>\n",
       "      <th>lag_6</th>\n",
       "      <th>rolling_mean</th>\n",
       "    </tr>\n",
       "    <tr>\n",
       "      <th>datetime</th>\n",
       "      <th></th>\n",
       "      <th></th>\n",
       "      <th></th>\n",
       "      <th></th>\n",
       "      <th></th>\n",
       "      <th></th>\n",
       "      <th></th>\n",
       "      <th></th>\n",
       "      <th></th>\n",
       "      <th></th>\n",
       "      <th></th>\n",
       "      <th></th>\n",
       "    </tr>\n",
       "  </thead>\n",
       "  <tbody>\n",
       "    <tr>\n",
       "      <th>2018-03-01 07:00:00</th>\n",
       "      <td>15</td>\n",
       "      <td>3</td>\n",
       "      <td>1</td>\n",
       "      <td>3</td>\n",
       "      <td>7</td>\n",
       "      <td>12.0</td>\n",
       "      <td>6.0</td>\n",
       "      <td>43.0</td>\n",
       "      <td>66.0</td>\n",
       "      <td>71.0</td>\n",
       "      <td>85.0</td>\n",
       "      <td>58.142857</td>\n",
       "    </tr>\n",
       "    <tr>\n",
       "      <th>2018-03-01 08:00:00</th>\n",
       "      <td>34</td>\n",
       "      <td>3</td>\n",
       "      <td>1</td>\n",
       "      <td>3</td>\n",
       "      <td>8</td>\n",
       "      <td>15.0</td>\n",
       "      <td>12.0</td>\n",
       "      <td>6.0</td>\n",
       "      <td>43.0</td>\n",
       "      <td>66.0</td>\n",
       "      <td>71.0</td>\n",
       "      <td>42.571429</td>\n",
       "    </tr>\n",
       "    <tr>\n",
       "      <th>2018-03-01 09:00:00</th>\n",
       "      <td>69</td>\n",
       "      <td>3</td>\n",
       "      <td>1</td>\n",
       "      <td>3</td>\n",
       "      <td>9</td>\n",
       "      <td>34.0</td>\n",
       "      <td>15.0</td>\n",
       "      <td>12.0</td>\n",
       "      <td>6.0</td>\n",
       "      <td>43.0</td>\n",
       "      <td>66.0</td>\n",
       "      <td>35.285714</td>\n",
       "    </tr>\n",
       "    <tr>\n",
       "      <th>2018-03-01 10:00:00</th>\n",
       "      <td>64</td>\n",
       "      <td>3</td>\n",
       "      <td>1</td>\n",
       "      <td>3</td>\n",
       "      <td>10</td>\n",
       "      <td>69.0</td>\n",
       "      <td>34.0</td>\n",
       "      <td>15.0</td>\n",
       "      <td>12.0</td>\n",
       "      <td>6.0</td>\n",
       "      <td>43.0</td>\n",
       "      <td>35.000000</td>\n",
       "    </tr>\n",
       "    <tr>\n",
       "      <th>2018-03-01 11:00:00</th>\n",
       "      <td>96</td>\n",
       "      <td>3</td>\n",
       "      <td>1</td>\n",
       "      <td>3</td>\n",
       "      <td>11</td>\n",
       "      <td>64.0</td>\n",
       "      <td>69.0</td>\n",
       "      <td>34.0</td>\n",
       "      <td>15.0</td>\n",
       "      <td>12.0</td>\n",
       "      <td>6.0</td>\n",
       "      <td>34.714286</td>\n",
       "    </tr>\n",
       "  </tbody>\n",
       "</table>\n",
       "</div>"
      ],
      "text/plain": [
       "                     num_orders_hourly  month  day  dayofweek  hour  lag_1  \\\n",
       "datetime                                                                     \n",
       "2018-03-01 07:00:00                 15      3    1          3     7   12.0   \n",
       "2018-03-01 08:00:00                 34      3    1          3     8   15.0   \n",
       "2018-03-01 09:00:00                 69      3    1          3     9   34.0   \n",
       "2018-03-01 10:00:00                 64      3    1          3    10   69.0   \n",
       "2018-03-01 11:00:00                 96      3    1          3    11   64.0   \n",
       "\n",
       "                     lag_2  lag_3  lag_4  lag_5  lag_6  rolling_mean  \n",
       "datetime                                                              \n",
       "2018-03-01 07:00:00    6.0   43.0   66.0   71.0   85.0     58.142857  \n",
       "2018-03-01 08:00:00   12.0    6.0   43.0   66.0   71.0     42.571429  \n",
       "2018-03-01 09:00:00   15.0   12.0    6.0   43.0   66.0     35.285714  \n",
       "2018-03-01 10:00:00   34.0   15.0   12.0    6.0   43.0     35.000000  \n",
       "2018-03-01 11:00:00   69.0   34.0   15.0   12.0    6.0     34.714286  "
      ]
     },
     "execution_count": 61,
     "metadata": {},
     "output_type": "execute_result"
    }
   ],
   "source": [
    "# drop NaNs values \n",
    "df2 = df2.dropna()\n",
    "print('The time series has', df2.shape[0], 'rows and', df2.shape[1], 'features')\n",
    "print()\n",
    "df2.head()"
   ]
  },
  {
   "cell_type": "code",
   "execution_count": 62,
   "metadata": {},
   "outputs": [],
   "source": [
    "# Splitting data with no shuffling to keep time order \n",
    "train, test = train_test_split(df2, shuffle=False, test_size=0.1)"
   ]
  },
  {
   "cell_type": "code",
   "execution_count": 63,
   "metadata": {},
   "outputs": [],
   "source": [
    "# Seperate taregt and features \n",
    "\n",
    "features_train = train.drop(['num_orders_hourly'], axis=1)\n",
    "target_train = train['num_orders_hourly']\n",
    "features_test = test.drop(['num_orders_hourly'], axis=1)\n",
    "target_test = test['num_orders_hourly']\n"
   ]
  },
  {
   "cell_type": "code",
   "execution_count": 64,
   "metadata": {},
   "outputs": [],
   "source": [
    "# Time series cross validation set up\n",
    "# TimeSeriesSplit avoids data leakage by ensuring each split only contains past data to predict future data.\n",
    "\n",
    "tscv = TimeSeriesSplit(n_splits=5)\n"
   ]
  },
  {
   "cell_type": "code",
   "execution_count": 65,
   "metadata": {},
   "outputs": [],
   "source": [
    "# Model pipeline \n",
    "\n",
    "\n",
    "pipe_linear = Pipeline([('scaler2', StandardScaler()),\n",
    "                       ('LinearRegression(Dummy)', LinearRegression())])\n",
    "\n",
    "pipe_rfr = Pipeline([('scaler1', StandardScaler()),\n",
    "                    ('RandomForestRegressor', RandomForestRegressor(n_estimators=100))])\n",
    "\n",
    "pipe_lgbm_r =  Pipeline([('scaler4', StandardScaler()),\n",
    "                       ('LGBMRegressor', LGBMRegressor())])\n",
    "\n",
    "pipe_xgb_r = Pipeline([('scaler5', StandardScaler()),\n",
    "                       ('XGBRegressor', XGBRegressor())])\n",
    "\n",
    "pipe_neighbors = Pipeline([('scaler6',StandardScaler()),('KNeighborsRegressor',KNeighborsRegressor())])\n"
   ]
  },
  {
   "cell_type": "code",
   "execution_count": 66,
   "metadata": {},
   "outputs": [],
   "source": [
    "#Precheck models to see what models might be worth fine tuning \n",
    "\n",
    "#Creating list of pipelines.\n",
    "pipelines = [pipe_rfr, pipe_linear, pipe_lgbm_r, pipe_xgb_r,pipe_neighbors]\n",
    "#Creating a dictionary of pipelines.\n",
    "pipe_dict = {pipe_rfr:'RandomForestRegressor', pipe_linear:'LinearRegression',\\\n",
    "              pipe_lgbm_r: 'LGBMRegressor', pipe_xgb_r:'XGBRegressor',pipe_neighbors:'KNeighborsRegressor'}\n"
   ]
  },
  {
   "cell_type": "markdown",
   "metadata": {},
   "source": [
    "#### Hyperparameter tuning"
   ]
  },
  {
   "cell_type": "code",
   "execution_count": 67,
   "metadata": {},
   "outputs": [
    {
     "name": "stdout",
     "output_type": "stream",
     "text": [
      "Best Estimator:\n",
      " RandomForestRegressor(random_state=0)\n",
      "\n",
      "Best Score (Negative RMSE): -25.363679873929755\n"
     ]
    }
   ],
   "source": [
    "# Random Forest \n",
    "# each block below uses GridSearchCV to find the best hyperparameters for each model\n",
    "\n",
    "# hyperparameter grid\n",
    "rfr_param = {\n",
    "    'n_estimators': [10, 25, 50, 100],\n",
    "    'max_depth': [None, 2, 4, 8, 10, 12]\n",
    "}\n",
    "\n",
    "# RF regressor\n",
    "rfr =  RandomForestRegressor(random_state=0, criterion='mse')\n",
    "\n",
    "# GridSearch\n",
    "RF_grid = GridSearchCV(\n",
    "    estimator=rfr,\n",
    "    param_grid=rfr_param,\n",
    "    cv=tscv,\n",
    "    scoring='neg_root_mean_squared_error',\n",
    "    n_jobs=-1 # used to speed things up\n",
    ")\n",
    "\n",
    "# Fit model\n",
    "RF_grid_model = RF_grid.fit(features_train, target_train)\n",
    "\n",
    "\n",
    "print(\"Best Estimator:\\n\", RF_grid_model.best_estimator_)\n",
    "print(\"\\nBest Score (Negative RMSE):\", RF_grid_model.best_score_)\n"
   ]
  },
  {
   "cell_type": "code",
   "execution_count": 68,
   "metadata": {},
   "outputs": [
    {
     "name": "stdout",
     "output_type": "stream",
     "text": [
      "The best hyperparameters are: {'max_depth': None, 'n_estimators': 100}\n"
     ]
    }
   ],
   "source": [
    "print('The best hyperparameters are: {}'.format(RF_grid_model.best_params_))"
   ]
  },
  {
   "cell_type": "code",
   "execution_count": 69,
   "metadata": {},
   "outputs": [
    {
     "name": "stdout",
     "output_type": "stream",
     "text": [
      "Best Estimator:\n",
      " XGBRegressor(base_score=0.75, booster='gbtree', colsample_bylevel=1,\n",
      "             colsample_bynode=1, colsample_bytree=1, enable_categorical=False,\n",
      "             gamma=0, gpu_id=-1, importance_type=None,\n",
      "             interaction_constraints='', learning_rate=0.1, max_delta_step=0,\n",
      "             max_depth=6, min_child_weight=1, missing=nan,\n",
      "             monotone_constraints='()', n_estimators=100, n_jobs=4,\n",
      "             num_parallel_tree=1, predictor='auto', random_state=0, reg_alpha=0,\n",
      "             reg_lambda=1, scale_pos_weight=1, subsample=1, tree_method='exact',\n",
      "             validate_parameters=1, verbosity=None)\n",
      "\n",
      "Best Score (Negative RMSE): -26.153996256285915\n"
     ]
    }
   ],
   "source": [
    "# XGBRegressor\n",
    "\n",
    "# Define hyperparameter grid\n",
    "xgb_param = {\n",
    "    'learning_rate': [0.001, 0.01, 0.1, 0.3],\n",
    "    'n_estimators': [10, 25, 50, 100],\n",
    "    'base_score': [0.25, 0.5, 0.75]\n",
    "}\n",
    "\n",
    "#  XGBoost Regressor\n",
    "xgb = XGBRegressor()\n",
    "\n",
    "# GridSearchCV\n",
    "XGB_grid = GridSearchCV(\n",
    "    estimator=xgb,\n",
    "    param_grid=xgb_param,\n",
    "    cv=tscv,\n",
    "    scoring='neg_root_mean_squared_error',\n",
    "    n_jobs=-1\n",
    ")\n",
    "\n",
    "\n",
    "XGB_grid_model = XGB_grid.fit(features_train, target_train)\n",
    "\n",
    "\n",
    "print(\"Best Estimator:\\n\", XGB_grid_model.best_estimator_)\n",
    "print(\"\\nBest Score (Negative RMSE):\", XGB_grid_model.best_score_)\n"
   ]
  },
  {
   "cell_type": "code",
   "execution_count": 70,
   "metadata": {},
   "outputs": [
    {
     "name": "stdout",
     "output_type": "stream",
     "text": [
      "The best hyperparameters are: {'base_score': 0.75, 'learning_rate': 0.1, 'n_estimators': 100}\n"
     ]
    }
   ],
   "source": [
    "print('The best hyperparameters are: {}'.format(XGB_grid_model.best_params_))"
   ]
  },
  {
   "cell_type": "code",
   "execution_count": null,
   "metadata": {},
   "outputs": [],
   "source": [
    "# # LGBM Regressor\n",
    "\n",
    "# Define hyperparameter grid\n",
    "lgbm_param = {\n",
    "    'learning_rate': [0.001, 0.01, 0.05, 0.1],\n",
    "    'n_estimators': [50, 100, 200, 500],\n",
    "    'num_leaves': [5, 10, 20, 31]\n",
    "}\n",
    "\n",
    "# LightGBM Regressor\n",
    "lgbm = LGBMRegressor()\n",
    "\n",
    "# GridSearchCV\n",
    "LGBM_grid = GridSearchCV(\n",
    "    estimator=lgbm,\n",
    "    param_grid=lgbm_param,\n",
    "    cv=tscv,\n",
    "    scoring='neg_root_mean_squared_error',\n",
    "    n_jobs=-1  # changed to -1 to use all cores\n",
    ")\n",
    "\n",
    "LGBM_grid_model = LGBM_grid.fit(features_train, target_train)\n",
    "\n",
    "\n",
    "print(\"Best Estimator:\\n\", LGBM_grid_model.best_estimator_)\n",
    "print(\"\\nBest Score (Negative RMSE):\", LGBM_grid_model.best_score_)\n"
   ]
  },
  {
   "cell_type": "code",
   "execution_count": null,
   "metadata": {},
   "outputs": [],
   "source": [
    "print('The best hyperparameters are: {}'.format(LGBM_grid_model.best_params_))"
   ]
  },
  {
   "cell_type": "code",
   "execution_count": null,
   "metadata": {},
   "outputs": [],
   "source": [
    "# K nearest neighbors\n",
    "\n",
    "# hyperparameter grid\n",
    "knn_param = {\n",
    "    'n_neighbors': range(1, 5),\n",
    "    'algorithm': ['auto', 'ball_tree', 'kd_tree', 'brute']\n",
    "}\n",
    "\n",
    "# KNN Regressor\n",
    "knn = KNeighborsRegressor()\n",
    "\n",
    "# GridSearchCV\n",
    "knn_grid = GridSearchCV(\n",
    "    estimator=knn,\n",
    "    param_grid=knn_param,\n",
    "    cv=tscv,\n",
    "    scoring='neg_root_mean_squared_error',\n",
    "    n_jobs=-1  # switched from 1 to -1 for parallel processing\n",
    ")\n",
    "\n",
    "# fitting model\n",
    "knn_grid_model = knn_grid.fit(features_train, target_train)\n",
    "\n",
    "\n",
    "print(\"Best Estimator:\\n\", knn_grid_model.best_estimator_)\n",
    "print(\"\\nBest Score (Negative RMSE):\", knn_grid_model.best_score_)\n"
   ]
  },
  {
   "cell_type": "code",
   "execution_count": null,
   "metadata": {},
   "outputs": [],
   "source": [
    "print('The best hyperparameters are: {}'.format(knn_grid_model.best_params_))"
   ]
  },
  {
   "cell_type": "markdown",
   "metadata": {},
   "source": [
    "Several different algorithms with various hyperparameters were trained. The metric used to evaluate the model is the RMSE score. The KNeighbors regression algorithm had the worst RMSE score of 33.5. The LightGBM regressor had the best RMSE score of 25.2 and will be chosen for model testing for this task."
   ]
  },
  {
   "cell_type": "markdown",
   "metadata": {},
   "source": [
    "## Testing"
   ]
  },
  {
   "cell_type": "code",
   "execution_count": null,
   "metadata": {},
   "outputs": [],
   "source": [
    "\n",
    "# Define pipeline\n",
    "dummy_test_model = Pipeline([\n",
    "    ('scaler', StandardScaler()),\n",
    "    ('regressor', LinearRegression())\n",
    "])\n",
    "\n",
    "# Fit model on training data\n",
    "dummy_test_model.fit(features_train, target_train)\n",
    "\n",
    "# Predict on test data\n",
    "dummy_predictions_test = dummy_test_model.predict(features_test)\n",
    "\n",
    "rmse = mean_squared_error(target_test, dummy_predictions_test, squared=False)\n",
    "print(\"Model MSE for the test set:\", rmse)\n"
   ]
  },
  {
   "cell_type": "code",
   "execution_count": null,
   "metadata": {},
   "outputs": [],
   "source": [
    "\n",
    "# Define pipeline with scaling + LightGBM\n",
    "lgbm_test_model = Pipeline([\n",
    "    ('scaler', StandardScaler()),\n",
    "    ('regressor', LGBMRegressor(learning_rate=0.1, n_estimators=200, num_leaves=10))\n",
    "])\n",
    "\n",
    "# Fit model on training data\n",
    "lgbm_test_model.fit(features_train, target_train)\n",
    "\n",
    "\n",
    "lgbm_predictions_test = lgbm_test_model.predict(features_test)\n",
    "\n",
    "\n",
    "rmse = mean_squared_error(target_test, lgbm_predictions_test, squared=False)\n",
    "print(\"Model MSE for the test set:\", rmse)\n"
   ]
  },
  {
   "cell_type": "markdown",
   "metadata": {},
   "source": [
    "#### Conclusion\n",
    "\n",
    "The model with the best RMSE score, LightGBM, was chosen for model testing for this task and compared aginst a simple regression model. Using the LightGBM algorithm, an RMSE score of 44.08 was obtained for the test set and this model does better than the baseline linear regresison model (RMSE=52.74)"
   ]
  }
 ],
 "metadata": {
  "ExecuteTimeLog": [
   {
    "duration": 2957,
    "start_time": "2025-03-26T22:18:01.969Z"
   },
   {
    "duration": 0,
    "start_time": "2025-03-26T22:18:04.930Z"
   },
   {
    "duration": 0,
    "start_time": "2025-03-26T22:18:04.931Z"
   },
   {
    "duration": 0,
    "start_time": "2025-03-26T22:18:04.932Z"
   },
   {
    "duration": 0,
    "start_time": "2025-03-26T22:18:04.933Z"
   },
   {
    "duration": 0,
    "start_time": "2025-03-26T22:18:04.943Z"
   },
   {
    "duration": 0,
    "start_time": "2025-03-26T22:18:04.944Z"
   },
   {
    "duration": 0,
    "start_time": "2025-03-26T22:18:04.945Z"
   },
   {
    "duration": 0,
    "start_time": "2025-03-26T22:18:04.946Z"
   },
   {
    "duration": 0,
    "start_time": "2025-03-26T22:18:04.947Z"
   },
   {
    "duration": 0,
    "start_time": "2025-03-26T22:18:04.949Z"
   },
   {
    "duration": 0,
    "start_time": "2025-03-26T22:18:04.950Z"
   },
   {
    "duration": 0,
    "start_time": "2025-03-26T22:18:04.951Z"
   },
   {
    "duration": 0,
    "start_time": "2025-03-26T22:18:04.952Z"
   },
   {
    "duration": 0,
    "start_time": "2025-03-26T22:18:04.953Z"
   },
   {
    "duration": 0,
    "start_time": "2025-03-26T22:18:04.954Z"
   },
   {
    "duration": 0,
    "start_time": "2025-03-26T22:18:04.955Z"
   },
   {
    "duration": 0,
    "start_time": "2025-03-26T22:18:04.956Z"
   },
   {
    "duration": 0,
    "start_time": "2025-03-26T22:18:04.957Z"
   },
   {
    "duration": 0,
    "start_time": "2025-03-26T22:18:04.957Z"
   },
   {
    "duration": 0,
    "start_time": "2025-03-26T22:18:04.958Z"
   },
   {
    "duration": 0,
    "start_time": "2025-03-26T22:18:04.959Z"
   },
   {
    "duration": 0,
    "start_time": "2025-03-26T22:18:04.962Z"
   },
   {
    "duration": 0,
    "start_time": "2025-03-26T22:18:04.963Z"
   },
   {
    "duration": 1,
    "start_time": "2025-03-26T22:18:04.964Z"
   },
   {
    "duration": 0,
    "start_time": "2025-03-26T22:18:04.966Z"
   },
   {
    "duration": 1,
    "start_time": "2025-03-26T22:18:04.967Z"
   },
   {
    "duration": 0,
    "start_time": "2025-03-26T22:18:04.969Z"
   },
   {
    "duration": 0,
    "start_time": "2025-03-26T22:18:04.970Z"
   },
   {
    "duration": 0,
    "start_time": "2025-03-26T22:18:04.971Z"
   },
   {
    "duration": 0,
    "start_time": "2025-03-26T22:18:04.973Z"
   },
   {
    "duration": 0,
    "start_time": "2025-03-26T22:18:04.975Z"
   },
   {
    "duration": 0,
    "start_time": "2025-03-26T22:18:04.976Z"
   },
   {
    "duration": 0,
    "start_time": "2025-03-26T22:18:04.978Z"
   },
   {
    "duration": 0,
    "start_time": "2025-03-26T22:18:04.979Z"
   },
   {
    "duration": 0,
    "start_time": "2025-03-26T22:18:04.980Z"
   },
   {
    "duration": 865,
    "start_time": "2025-03-26T22:30:58.197Z"
   },
   {
    "duration": 727,
    "start_time": "2025-03-26T22:30:59.411Z"
   },
   {
    "duration": 575,
    "start_time": "2025-03-26T22:32:30.464Z"
   },
   {
    "duration": 846,
    "start_time": "2025-03-26T22:32:55.471Z"
   },
   {
    "duration": 1181,
    "start_time": "2025-03-26T22:33:12.141Z"
   },
   {
    "duration": 3,
    "start_time": "2025-03-26T22:33:49.980Z"
   },
   {
    "duration": 3672,
    "start_time": "2025-03-26T22:33:52.402Z"
   },
   {
    "duration": 18,
    "start_time": "2025-03-26T22:34:01.328Z"
   },
   {
    "duration": 15,
    "start_time": "2025-03-26T22:34:03.342Z"
   },
   {
    "duration": 1131,
    "start_time": "2025-03-26T22:34:18.401Z"
   },
   {
    "duration": 32,
    "start_time": "2025-03-26T22:34:25.691Z"
   },
   {
    "duration": 5,
    "start_time": "2025-03-26T22:34:31.130Z"
   },
   {
    "duration": 7,
    "start_time": "2025-03-26T22:34:31.137Z"
   },
   {
    "duration": 21,
    "start_time": "2025-03-26T22:34:31.148Z"
   },
   {
    "duration": 8,
    "start_time": "2025-03-26T22:34:31.171Z"
   },
   {
    "duration": 7,
    "start_time": "2025-03-26T22:34:31.181Z"
   },
   {
    "duration": 3,
    "start_time": "2025-03-26T22:34:31.190Z"
   },
   {
    "duration": 4,
    "start_time": "2025-03-26T22:34:31.194Z"
   },
   {
    "duration": 4,
    "start_time": "2025-03-26T22:34:31.200Z"
   },
   {
    "duration": 45,
    "start_time": "2025-03-26T22:34:31.206Z"
   },
   {
    "duration": 10,
    "start_time": "2025-03-26T22:34:31.253Z"
   },
   {
    "duration": 435,
    "start_time": "2025-03-26T22:34:31.265Z"
   },
   {
    "duration": 319,
    "start_time": "2025-03-26T22:34:31.701Z"
   },
   {
    "duration": 544,
    "start_time": "2025-03-26T22:34:32.022Z"
   },
   {
    "duration": 9,
    "start_time": "2025-03-26T22:34:32.570Z"
   },
   {
    "duration": 4,
    "start_time": "2025-03-26T22:34:32.581Z"
   },
   {
    "duration": 7,
    "start_time": "2025-03-26T22:34:32.587Z"
   },
   {
    "duration": 452,
    "start_time": "2025-03-26T22:34:32.595Z"
   },
   {
    "duration": 324,
    "start_time": "2025-03-26T22:34:33.050Z"
   },
   {
    "duration": 248,
    "start_time": "2025-03-26T22:34:33.375Z"
   },
   {
    "duration": 18,
    "start_time": "2025-03-26T22:34:33.625Z"
   },
   {
    "duration": 20,
    "start_time": "2025-03-26T22:34:33.644Z"
   },
   {
    "duration": 15,
    "start_time": "2025-03-26T22:34:33.665Z"
   },
   {
    "duration": 4,
    "start_time": "2025-03-26T22:34:33.681Z"
   },
   {
    "duration": 3,
    "start_time": "2025-03-26T22:34:33.687Z"
   },
   {
    "duration": 3,
    "start_time": "2025-03-26T22:34:33.692Z"
   },
   {
    "duration": 3,
    "start_time": "2025-03-26T22:34:33.697Z"
   },
   {
    "duration": 4,
    "start_time": "2025-03-26T22:34:33.702Z"
   },
   {
    "duration": 38,
    "start_time": "2025-03-26T22:34:33.707Z"
   },
   {
    "duration": 0,
    "start_time": "2025-03-26T22:34:33.747Z"
   },
   {
    "duration": 0,
    "start_time": "2025-03-26T22:34:33.748Z"
   },
   {
    "duration": 0,
    "start_time": "2025-03-26T22:34:33.749Z"
   },
   {
    "duration": 0,
    "start_time": "2025-03-26T22:34:33.750Z"
   },
   {
    "duration": 0,
    "start_time": "2025-03-26T22:34:33.751Z"
   },
   {
    "duration": 0,
    "start_time": "2025-03-26T22:34:33.752Z"
   },
   {
    "duration": 0,
    "start_time": "2025-03-26T22:34:33.754Z"
   },
   {
    "duration": 0,
    "start_time": "2025-03-26T22:34:33.755Z"
   },
   {
    "duration": 0,
    "start_time": "2025-03-26T22:34:33.756Z"
   },
   {
    "duration": 5,
    "start_time": "2025-03-26T22:35:30.557Z"
   },
   {
    "duration": 5,
    "start_time": "2025-03-26T22:35:36.425Z"
   },
   {
    "duration": 5,
    "start_time": "2025-03-26T22:36:20.990Z"
   },
   {
    "duration": 34718,
    "start_time": "2025-03-26T22:36:26.166Z"
   },
   {
    "duration": 0,
    "start_time": "2025-03-26T22:37:00.886Z"
   },
   {
    "duration": 0,
    "start_time": "2025-03-26T22:37:00.888Z"
   },
   {
    "duration": 0,
    "start_time": "2025-03-26T22:37:00.889Z"
   },
   {
    "duration": 0,
    "start_time": "2025-03-26T22:37:00.891Z"
   },
   {
    "duration": 0,
    "start_time": "2025-03-26T22:37:00.892Z"
   },
   {
    "duration": 0,
    "start_time": "2025-03-26T22:37:00.894Z"
   },
   {
    "duration": 0,
    "start_time": "2025-03-26T22:37:00.895Z"
   },
   {
    "duration": 34460,
    "start_time": "2025-03-26T22:39:55.643Z"
   },
   {
    "duration": 3,
    "start_time": "2025-03-26T22:40:30.106Z"
   },
   {
    "duration": 210,
    "start_time": "2025-03-26T22:41:48.125Z"
   },
   {
    "duration": 8481,
    "start_time": "2025-03-26T22:43:30.392Z"
   },
   {
    "duration": 2502,
    "start_time": "2025-03-26T22:43:56.894Z"
   },
   {
    "duration": 1117,
    "start_time": "2025-03-26T22:44:14.403Z"
   },
   {
    "duration": 2,
    "start_time": "2025-03-26T22:44:15.523Z"
   },
   {
    "duration": 4,
    "start_time": "2025-03-26T22:44:15.526Z"
   },
   {
    "duration": 30,
    "start_time": "2025-03-26T22:44:15.531Z"
   },
   {
    "duration": 8,
    "start_time": "2025-03-26T22:44:15.563Z"
   },
   {
    "duration": 7,
    "start_time": "2025-03-26T22:44:15.573Z"
   },
   {
    "duration": 4,
    "start_time": "2025-03-26T22:44:15.581Z"
   },
   {
    "duration": 3,
    "start_time": "2025-03-26T22:44:15.586Z"
   },
   {
    "duration": 7,
    "start_time": "2025-03-26T22:44:15.591Z"
   },
   {
    "duration": 11,
    "start_time": "2025-03-26T22:44:15.599Z"
   },
   {
    "duration": 9,
    "start_time": "2025-03-26T22:44:15.643Z"
   },
   {
    "duration": 430,
    "start_time": "2025-03-26T22:44:15.653Z"
   },
   {
    "duration": 320,
    "start_time": "2025-03-26T22:44:16.085Z"
   },
   {
    "duration": 568,
    "start_time": "2025-03-26T22:44:16.409Z"
   },
   {
    "duration": 9,
    "start_time": "2025-03-26T22:44:16.979Z"
   },
   {
    "duration": 3,
    "start_time": "2025-03-26T22:44:16.992Z"
   },
   {
    "duration": 7,
    "start_time": "2025-03-26T22:44:16.996Z"
   },
   {
    "duration": 362,
    "start_time": "2025-03-26T22:44:17.004Z"
   },
   {
    "duration": 327,
    "start_time": "2025-03-26T22:44:17.444Z"
   },
   {
    "duration": 255,
    "start_time": "2025-03-26T22:44:17.773Z"
   },
   {
    "duration": 12,
    "start_time": "2025-03-26T22:44:18.030Z"
   },
   {
    "duration": 17,
    "start_time": "2025-03-26T22:44:18.044Z"
   },
   {
    "duration": 14,
    "start_time": "2025-03-26T22:44:18.062Z"
   },
   {
    "duration": 3,
    "start_time": "2025-03-26T22:44:18.078Z"
   },
   {
    "duration": 4,
    "start_time": "2025-03-26T22:44:18.083Z"
   },
   {
    "duration": 3,
    "start_time": "2025-03-26T22:44:18.088Z"
   },
   {
    "duration": 4,
    "start_time": "2025-03-26T22:44:18.093Z"
   },
   {
    "duration": 4,
    "start_time": "2025-03-26T22:44:18.098Z"
   },
   {
    "duration": 34557,
    "start_time": "2025-03-26T22:44:18.104Z"
   },
   {
    "duration": 3,
    "start_time": "2025-03-26T22:44:52.663Z"
   },
   {
    "duration": 452,
    "start_time": "2025-03-26T22:44:52.669Z"
   },
   {
    "duration": 0,
    "start_time": "2025-03-26T22:44:53.123Z"
   },
   {
    "duration": 0,
    "start_time": "2025-03-26T22:44:53.125Z"
   },
   {
    "duration": 0,
    "start_time": "2025-03-26T22:44:53.126Z"
   },
   {
    "duration": 0,
    "start_time": "2025-03-26T22:44:53.128Z"
   },
   {
    "duration": 0,
    "start_time": "2025-03-26T22:44:53.129Z"
   },
   {
    "duration": 0,
    "start_time": "2025-03-26T22:44:53.143Z"
   },
   {
    "duration": 0,
    "start_time": "2025-03-26T22:44:53.144Z"
   },
   {
    "duration": 96609,
    "start_time": "2025-03-26T22:45:13.435Z"
   },
   {
    "duration": 3,
    "start_time": "2025-03-26T22:46:50.046Z"
   },
   {
    "duration": 1100,
    "start_time": "2025-03-26T22:47:15.454Z"
   },
   {
    "duration": 3,
    "start_time": "2025-03-26T22:47:18.027Z"
   },
   {
    "duration": 12,
    "start_time": "2025-03-26T22:47:19.601Z"
   },
   {
    "duration": 10,
    "start_time": "2025-03-26T22:47:21.053Z"
   },
   {
    "duration": 290,
    "start_time": "2025-03-26T22:47:22.255Z"
   },
   {
    "duration": 19224,
    "start_time": "2025-03-26T22:47:29.221Z"
   },
   {
    "duration": 1159,
    "start_time": "2025-03-26T22:48:04.427Z"
   },
   {
    "duration": 4,
    "start_time": "2025-03-26T22:49:20.875Z"
   },
   {
    "duration": 4,
    "start_time": "2025-03-26T22:49:25.084Z"
   },
   {
    "duration": 3,
    "start_time": "2025-03-26T22:49:27.564Z"
   },
   {
    "duration": 4,
    "start_time": "2025-03-26T22:49:55.131Z"
   },
   {
    "duration": 4,
    "start_time": "2025-03-26T22:49:55.137Z"
   },
   {
    "duration": 2,
    "start_time": "2025-03-26T22:49:55.143Z"
   },
   {
    "duration": 25,
    "start_time": "2025-03-26T22:49:55.148Z"
   },
   {
    "duration": 13,
    "start_time": "2025-03-26T22:49:55.175Z"
   },
   {
    "duration": 8,
    "start_time": "2025-03-26T22:49:55.192Z"
   },
   {
    "duration": 3,
    "start_time": "2025-03-26T22:49:55.202Z"
   },
   {
    "duration": 3,
    "start_time": "2025-03-26T22:49:55.207Z"
   },
   {
    "duration": 6,
    "start_time": "2025-03-26T22:49:55.242Z"
   },
   {
    "duration": 12,
    "start_time": "2025-03-26T22:49:55.250Z"
   },
   {
    "duration": 10,
    "start_time": "2025-03-26T22:49:55.263Z"
   },
   {
    "duration": 445,
    "start_time": "2025-03-26T22:49:55.274Z"
   },
   {
    "duration": 325,
    "start_time": "2025-03-26T22:49:55.721Z"
   },
   {
    "duration": 553,
    "start_time": "2025-03-26T22:49:56.048Z"
   },
   {
    "duration": 10,
    "start_time": "2025-03-26T22:49:56.602Z"
   },
   {
    "duration": 3,
    "start_time": "2025-03-26T22:49:56.614Z"
   },
   {
    "duration": 25,
    "start_time": "2025-03-26T22:49:56.618Z"
   },
   {
    "duration": 306,
    "start_time": "2025-03-26T22:49:56.645Z"
   },
   {
    "duration": 339,
    "start_time": "2025-03-26T22:49:56.953Z"
   },
   {
    "duration": 257,
    "start_time": "2025-03-26T22:49:57.295Z"
   },
   {
    "duration": 8,
    "start_time": "2025-03-26T22:49:57.554Z"
   },
   {
    "duration": 18,
    "start_time": "2025-03-26T22:49:57.563Z"
   },
   {
    "duration": 17,
    "start_time": "2025-03-26T22:49:57.582Z"
   },
   {
    "duration": 4,
    "start_time": "2025-03-26T22:49:57.603Z"
   },
   {
    "duration": 36,
    "start_time": "2025-03-26T22:49:57.609Z"
   },
   {
    "duration": 3,
    "start_time": "2025-03-26T22:49:57.647Z"
   },
   {
    "duration": 6,
    "start_time": "2025-03-26T22:49:57.651Z"
   },
   {
    "duration": 3,
    "start_time": "2025-03-26T22:50:04.127Z"
   },
   {
    "duration": 530,
    "start_time": "2025-03-26T22:50:10.395Z"
   },
   {
    "duration": 5,
    "start_time": "2025-03-26T22:58:02.806Z"
   },
   {
    "duration": 5,
    "start_time": "2025-03-26T23:24:26.324Z"
   },
   {
    "duration": 5481,
    "start_time": "2025-03-26T23:24:33.029Z"
   },
   {
    "duration": 1134,
    "start_time": "2025-03-26T23:24:51.995Z"
   },
   {
    "duration": 1141,
    "start_time": "2025-03-26T23:25:02.504Z"
   },
   {
    "duration": 2,
    "start_time": "2025-03-26T23:25:03.648Z"
   },
   {
    "duration": 3,
    "start_time": "2025-03-26T23:25:03.651Z"
   },
   {
    "duration": 24,
    "start_time": "2025-03-26T23:25:03.655Z"
   },
   {
    "duration": 8,
    "start_time": "2025-03-26T23:25:03.681Z"
   },
   {
    "duration": 7,
    "start_time": "2025-03-26T23:25:03.691Z"
   },
   {
    "duration": 3,
    "start_time": "2025-03-26T23:25:03.699Z"
   },
   {
    "duration": 4,
    "start_time": "2025-03-26T23:25:03.703Z"
   },
   {
    "duration": 39,
    "start_time": "2025-03-26T23:25:03.708Z"
   },
   {
    "duration": 11,
    "start_time": "2025-03-26T23:25:03.749Z"
   },
   {
    "duration": 9,
    "start_time": "2025-03-26T23:25:03.762Z"
   },
   {
    "duration": 402,
    "start_time": "2025-03-26T23:25:03.773Z"
   },
   {
    "duration": 324,
    "start_time": "2025-03-26T23:25:04.177Z"
   },
   {
    "duration": 523,
    "start_time": "2025-03-26T23:25:04.506Z"
   },
   {
    "duration": 14,
    "start_time": "2025-03-26T23:25:05.032Z"
   },
   {
    "duration": 3,
    "start_time": "2025-03-26T23:25:05.048Z"
   },
   {
    "duration": 7,
    "start_time": "2025-03-26T23:25:05.053Z"
   },
   {
    "duration": 400,
    "start_time": "2025-03-26T23:25:05.061Z"
   },
   {
    "duration": 362,
    "start_time": "2025-03-26T23:25:05.462Z"
   },
   {
    "duration": 260,
    "start_time": "2025-03-26T23:25:05.826Z"
   },
   {
    "duration": 7,
    "start_time": "2025-03-26T23:25:06.088Z"
   },
   {
    "duration": 18,
    "start_time": "2025-03-26T23:25:06.097Z"
   },
   {
    "duration": 33,
    "start_time": "2025-03-26T23:25:06.117Z"
   },
   {
    "duration": 3,
    "start_time": "2025-03-26T23:25:06.152Z"
   },
   {
    "duration": 4,
    "start_time": "2025-03-26T23:25:06.157Z"
   },
   {
    "duration": 2,
    "start_time": "2025-03-26T23:25:06.162Z"
   },
   {
    "duration": 3,
    "start_time": "2025-03-26T23:25:06.166Z"
   },
   {
    "duration": 2,
    "start_time": "2025-03-26T23:25:06.171Z"
   },
   {
    "duration": 34542,
    "start_time": "2025-03-26T23:25:06.175Z"
   },
   {
    "duration": 3,
    "start_time": "2025-03-26T23:25:40.719Z"
   },
   {
    "duration": 465,
    "start_time": "2025-03-26T23:25:40.724Z"
   },
   {
    "duration": 0,
    "start_time": "2025-03-26T23:25:41.191Z"
   },
   {
    "duration": 0,
    "start_time": "2025-03-26T23:25:41.192Z"
   },
   {
    "duration": 0,
    "start_time": "2025-03-26T23:25:41.193Z"
   },
   {
    "duration": 0,
    "start_time": "2025-03-26T23:25:41.194Z"
   },
   {
    "duration": 0,
    "start_time": "2025-03-26T23:25:41.195Z"
   },
   {
    "duration": 0,
    "start_time": "2025-03-26T23:25:41.196Z"
   },
   {
    "duration": 0,
    "start_time": "2025-03-26T23:25:41.196Z"
   },
   {
    "duration": 5,
    "start_time": "2025-03-26T23:27:36.609Z"
   },
   {
    "duration": 2,
    "start_time": "2025-03-26T23:27:36.616Z"
   },
   {
    "duration": 4,
    "start_time": "2025-03-26T23:27:36.620Z"
   },
   {
    "duration": 19,
    "start_time": "2025-03-26T23:27:36.626Z"
   },
   {
    "duration": 8,
    "start_time": "2025-03-26T23:27:36.647Z"
   },
   {
    "duration": 6,
    "start_time": "2025-03-26T23:27:36.657Z"
   },
   {
    "duration": 3,
    "start_time": "2025-03-26T23:27:36.664Z"
   },
   {
    "duration": 3,
    "start_time": "2025-03-26T23:27:36.669Z"
   },
   {
    "duration": 6,
    "start_time": "2025-03-26T23:27:36.674Z"
   },
   {
    "duration": 9,
    "start_time": "2025-03-26T23:27:36.682Z"
   },
   {
    "duration": 9,
    "start_time": "2025-03-26T23:27:36.692Z"
   },
   {
    "duration": 444,
    "start_time": "2025-03-26T23:27:36.702Z"
   },
   {
    "duration": 318,
    "start_time": "2025-03-26T23:27:37.147Z"
   },
   {
    "duration": 454,
    "start_time": "2025-03-26T23:27:37.469Z"
   },
   {
    "duration": 8,
    "start_time": "2025-03-26T23:27:37.925Z"
   },
   {
    "duration": 3,
    "start_time": "2025-03-26T23:27:37.943Z"
   },
   {
    "duration": 8,
    "start_time": "2025-03-26T23:27:37.947Z"
   },
   {
    "duration": 313,
    "start_time": "2025-03-26T23:27:37.956Z"
   },
   {
    "duration": 306,
    "start_time": "2025-03-26T23:27:38.343Z"
   },
   {
    "duration": 254,
    "start_time": "2025-03-26T23:27:38.651Z"
   },
   {
    "duration": 8,
    "start_time": "2025-03-26T23:27:38.907Z"
   },
   {
    "duration": 29,
    "start_time": "2025-03-26T23:27:38.917Z"
   },
   {
    "duration": 16,
    "start_time": "2025-03-26T23:27:38.948Z"
   },
   {
    "duration": 3,
    "start_time": "2025-03-26T23:27:38.966Z"
   },
   {
    "duration": 5,
    "start_time": "2025-03-26T23:27:38.971Z"
   },
   {
    "duration": 3,
    "start_time": "2025-03-26T23:27:38.977Z"
   },
   {
    "duration": 4,
    "start_time": "2025-03-26T23:27:38.982Z"
   },
   {
    "duration": 3,
    "start_time": "2025-03-26T23:27:38.988Z"
   },
   {
    "duration": 34528,
    "start_time": "2025-03-26T23:27:38.993Z"
   },
   {
    "duration": 3,
    "start_time": "2025-03-26T23:28:13.522Z"
   },
   {
    "duration": 57,
    "start_time": "2025-03-26T23:28:13.527Z"
   },
   {
    "duration": 0,
    "start_time": "2025-03-26T23:28:13.586Z"
   },
   {
    "duration": 0,
    "start_time": "2025-03-26T23:28:13.587Z"
   },
   {
    "duration": 0,
    "start_time": "2025-03-26T23:28:13.588Z"
   },
   {
    "duration": 0,
    "start_time": "2025-03-26T23:28:13.590Z"
   },
   {
    "duration": 0,
    "start_time": "2025-03-26T23:28:13.592Z"
   },
   {
    "duration": 0,
    "start_time": "2025-03-26T23:28:13.593Z"
   },
   {
    "duration": 0,
    "start_time": "2025-03-26T23:28:13.594Z"
   },
   {
    "duration": 2277,
    "start_time": "2025-03-26T23:28:44.887Z"
   },
   {
    "duration": 784,
    "start_time": "2025-03-26T23:29:08.983Z"
   },
   {
    "duration": 335,
    "start_time": "2025-03-26T23:29:16.393Z"
   },
   {
    "duration": 2106,
    "start_time": "2025-03-26T23:29:34.244Z"
   },
   {
    "duration": 862,
    "start_time": "2025-03-26T23:30:02.253Z"
   },
   {
    "duration": 323,
    "start_time": "2025-03-26T23:30:09.992Z"
   },
   {
    "duration": 1309,
    "start_time": "2025-03-26T23:30:22.298Z"
   },
   {
    "duration": 828,
    "start_time": "2025-03-26T23:30:38.584Z"
   },
   {
    "duration": 2112,
    "start_time": "2025-03-26T23:33:15.623Z"
   },
   {
    "duration": 866,
    "start_time": "2025-03-26T23:33:33.458Z"
   },
   {
    "duration": 3498,
    "start_time": "2025-03-26T23:35:41.538Z"
   },
   {
    "duration": 862,
    "start_time": "2025-03-26T23:35:58.368Z"
   },
   {
    "duration": 312,
    "start_time": "2025-03-26T23:36:01.295Z"
   },
   {
    "duration": 3,
    "start_time": "2025-03-26T23:36:18.434Z"
   },
   {
    "duration": 28,
    "start_time": "2025-03-26T23:36:18.439Z"
   },
   {
    "duration": 9,
    "start_time": "2025-03-26T23:36:18.468Z"
   },
   {
    "duration": 6,
    "start_time": "2025-03-26T23:36:18.479Z"
   },
   {
    "duration": 3,
    "start_time": "2025-03-26T23:36:18.488Z"
   },
   {
    "duration": 3,
    "start_time": "2025-03-26T23:36:18.493Z"
   },
   {
    "duration": 6,
    "start_time": "2025-03-26T23:36:18.497Z"
   },
   {
    "duration": 43,
    "start_time": "2025-03-26T23:36:18.504Z"
   },
   {
    "duration": 9,
    "start_time": "2025-03-26T23:36:18.549Z"
   },
   {
    "duration": 424,
    "start_time": "2025-03-26T23:36:18.559Z"
   },
   {
    "duration": 349,
    "start_time": "2025-03-26T23:36:18.987Z"
   },
   {
    "duration": 467,
    "start_time": "2025-03-26T23:36:19.338Z"
   },
   {
    "duration": 8,
    "start_time": "2025-03-26T23:36:19.807Z"
   },
   {
    "duration": 4,
    "start_time": "2025-03-26T23:36:19.816Z"
   },
   {
    "duration": 24,
    "start_time": "2025-03-26T23:36:19.821Z"
   },
   {
    "duration": 512,
    "start_time": "2025-03-26T23:36:19.847Z"
   },
   {
    "duration": 379,
    "start_time": "2025-03-26T23:36:20.360Z"
   },
   {
    "duration": 263,
    "start_time": "2025-03-26T23:36:20.741Z"
   },
   {
    "duration": 8,
    "start_time": "2025-03-26T23:36:21.006Z"
   },
   {
    "duration": 17,
    "start_time": "2025-03-26T23:36:21.016Z"
   },
   {
    "duration": 16,
    "start_time": "2025-03-26T23:36:21.043Z"
   },
   {
    "duration": 3,
    "start_time": "2025-03-26T23:36:21.061Z"
   },
   {
    "duration": 5,
    "start_time": "2025-03-26T23:36:21.066Z"
   },
   {
    "duration": 3,
    "start_time": "2025-03-26T23:36:21.072Z"
   },
   {
    "duration": 4,
    "start_time": "2025-03-26T23:36:21.077Z"
   },
   {
    "duration": 4,
    "start_time": "2025-03-26T23:36:21.083Z"
   },
   {
    "duration": 32781,
    "start_time": "2025-03-26T23:36:21.089Z"
   },
   {
    "duration": 3,
    "start_time": "2025-03-26T23:36:53.871Z"
   },
   {
    "duration": 112102,
    "start_time": "2025-03-26T23:36:53.878Z"
   },
   {
    "duration": 61,
    "start_time": "2025-03-26T23:38:45.982Z"
   },
   {
    "duration": 97918,
    "start_time": "2025-03-26T23:38:46.045Z"
   },
   {
    "duration": 3,
    "start_time": "2025-03-26T23:40:23.965Z"
   },
   {
    "duration": 1158,
    "start_time": "2025-03-26T23:40:24.044Z"
   },
   {
    "duration": 3,
    "start_time": "2025-03-26T23:40:25.204Z"
   },
   {
    "duration": 40,
    "start_time": "2025-03-26T23:40:25.208Z"
   },
   {
    "duration": 303,
    "start_time": "2025-03-26T23:40:25.249Z"
   },
   {
    "duration": 10,
    "start_time": "2025-03-26T23:42:29.541Z"
   },
   {
    "duration": 194,
    "start_time": "2025-03-26T23:42:36.357Z"
   },
   {
    "duration": 1155,
    "start_time": "2025-03-27T01:48:27.577Z"
   },
   {
    "duration": 2,
    "start_time": "2025-03-27T01:48:28.734Z"
   },
   {
    "duration": 4,
    "start_time": "2025-03-27T01:48:28.738Z"
   },
   {
    "duration": 32,
    "start_time": "2025-03-27T01:48:28.744Z"
   },
   {
    "duration": 8,
    "start_time": "2025-03-27T01:48:28.778Z"
   },
   {
    "duration": 6,
    "start_time": "2025-03-27T01:48:28.788Z"
   },
   {
    "duration": 3,
    "start_time": "2025-03-27T01:48:28.812Z"
   },
   {
    "duration": 4,
    "start_time": "2025-03-27T01:48:28.816Z"
   },
   {
    "duration": 6,
    "start_time": "2025-03-27T01:48:28.821Z"
   },
   {
    "duration": 10,
    "start_time": "2025-03-27T01:48:28.829Z"
   },
   {
    "duration": 9,
    "start_time": "2025-03-27T01:48:28.840Z"
   },
   {
    "duration": 441,
    "start_time": "2025-03-27T01:48:28.851Z"
   },
   {
    "duration": 341,
    "start_time": "2025-03-27T01:48:29.294Z"
   },
   {
    "duration": 497,
    "start_time": "2025-03-27T01:48:29.639Z"
   },
   {
    "duration": 8,
    "start_time": "2025-03-27T01:48:30.137Z"
   },
   {
    "duration": 3,
    "start_time": "2025-03-27T01:48:30.147Z"
   },
   {
    "duration": 7,
    "start_time": "2025-03-27T01:48:30.152Z"
   },
   {
    "duration": 470,
    "start_time": "2025-03-27T01:48:30.161Z"
   },
   {
    "duration": 368,
    "start_time": "2025-03-27T01:48:30.632Z"
   },
   {
    "duration": 251,
    "start_time": "2025-03-27T01:48:31.002Z"
   },
   {
    "duration": 7,
    "start_time": "2025-03-27T01:48:31.254Z"
   },
   {
    "duration": 16,
    "start_time": "2025-03-27T01:48:31.263Z"
   },
   {
    "duration": 34,
    "start_time": "2025-03-27T01:48:31.281Z"
   },
   {
    "duration": 4,
    "start_time": "2025-03-27T01:48:31.316Z"
   },
   {
    "duration": 4,
    "start_time": "2025-03-27T01:48:31.321Z"
   },
   {
    "duration": 3,
    "start_time": "2025-03-27T01:48:31.327Z"
   },
   {
    "duration": 5,
    "start_time": "2025-03-27T01:48:31.331Z"
   },
   {
    "duration": 4,
    "start_time": "2025-03-27T01:48:31.337Z"
   },
   {
    "duration": 2219,
    "start_time": "2025-03-27T01:48:31.343Z"
   },
   {
    "duration": 0,
    "start_time": "2025-03-27T01:48:33.564Z"
   },
   {
    "duration": 0,
    "start_time": "2025-03-27T01:48:33.566Z"
   },
   {
    "duration": 0,
    "start_time": "2025-03-27T01:48:33.567Z"
   },
   {
    "duration": 0,
    "start_time": "2025-03-27T01:48:33.568Z"
   },
   {
    "duration": 0,
    "start_time": "2025-03-27T01:48:33.569Z"
   },
   {
    "duration": 0,
    "start_time": "2025-03-27T01:48:33.570Z"
   },
   {
    "duration": 0,
    "start_time": "2025-03-27T01:48:33.572Z"
   },
   {
    "duration": 0,
    "start_time": "2025-03-27T01:48:33.573Z"
   },
   {
    "duration": 0,
    "start_time": "2025-03-27T01:48:33.574Z"
   },
   {
    "duration": 2730,
    "start_time": "2025-03-27T10:57:26.811Z"
   },
   {
    "duration": 2,
    "start_time": "2025-03-27T10:57:29.543Z"
   },
   {
    "duration": 4,
    "start_time": "2025-03-27T10:57:29.547Z"
   },
   {
    "duration": 31,
    "start_time": "2025-03-27T10:57:29.552Z"
   },
   {
    "duration": 8,
    "start_time": "2025-03-27T10:57:29.585Z"
   },
   {
    "duration": 8,
    "start_time": "2025-03-27T10:57:29.594Z"
   },
   {
    "duration": 3,
    "start_time": "2025-03-27T10:57:29.603Z"
   },
   {
    "duration": 23,
    "start_time": "2025-03-27T10:57:29.608Z"
   },
   {
    "duration": 5,
    "start_time": "2025-03-27T10:57:29.633Z"
   },
   {
    "duration": 11,
    "start_time": "2025-03-27T10:57:29.639Z"
   },
   {
    "duration": 9,
    "start_time": "2025-03-27T10:57:29.651Z"
   },
   {
    "duration": 414,
    "start_time": "2025-03-27T10:57:29.662Z"
   },
   {
    "duration": 318,
    "start_time": "2025-03-27T10:57:30.077Z"
   },
   {
    "duration": 505,
    "start_time": "2025-03-27T10:57:30.399Z"
   },
   {
    "duration": 9,
    "start_time": "2025-03-27T10:57:30.905Z"
   },
   {
    "duration": 17,
    "start_time": "2025-03-27T10:57:30.915Z"
   },
   {
    "duration": 7,
    "start_time": "2025-03-27T10:57:30.933Z"
   },
   {
    "duration": 391,
    "start_time": "2025-03-27T10:57:30.941Z"
   },
   {
    "duration": 309,
    "start_time": "2025-03-27T10:57:31.334Z"
   },
   {
    "duration": 261,
    "start_time": "2025-03-27T10:57:31.645Z"
   },
   {
    "duration": 7,
    "start_time": "2025-03-27T10:57:31.908Z"
   },
   {
    "duration": 101,
    "start_time": "2025-03-27T10:57:31.917Z"
   },
   {
    "duration": 23,
    "start_time": "2025-03-27T10:57:32.019Z"
   },
   {
    "duration": 3,
    "start_time": "2025-03-27T10:57:32.044Z"
   },
   {
    "duration": 5,
    "start_time": "2025-03-27T10:57:32.049Z"
   },
   {
    "duration": 2,
    "start_time": "2025-03-27T10:57:32.056Z"
   },
   {
    "duration": 4,
    "start_time": "2025-03-27T10:57:32.060Z"
   },
   {
    "duration": 4,
    "start_time": "2025-03-27T10:57:32.065Z"
   },
   {
    "duration": 4,
    "start_time": "2025-03-27T10:58:03.808Z"
   },
   {
    "duration": 3,
    "start_time": "2025-03-27T10:58:03.814Z"
   },
   {
    "duration": 3,
    "start_time": "2025-03-27T10:58:03.819Z"
   },
   {
    "duration": 17,
    "start_time": "2025-03-27T10:58:03.826Z"
   },
   {
    "duration": 9,
    "start_time": "2025-03-27T10:58:03.845Z"
   },
   {
    "duration": 5,
    "start_time": "2025-03-27T10:58:03.856Z"
   },
   {
    "duration": 4,
    "start_time": "2025-03-27T10:58:03.863Z"
   },
   {
    "duration": 3,
    "start_time": "2025-03-27T10:58:03.869Z"
   },
   {
    "duration": 7,
    "start_time": "2025-03-27T10:58:03.874Z"
   },
   {
    "duration": 9,
    "start_time": "2025-03-27T10:58:03.884Z"
   },
   {
    "duration": 42,
    "start_time": "2025-03-27T10:58:03.895Z"
   },
   {
    "duration": 401,
    "start_time": "2025-03-27T10:58:03.938Z"
   },
   {
    "duration": 318,
    "start_time": "2025-03-27T10:58:04.340Z"
   },
   {
    "duration": 466,
    "start_time": "2025-03-27T10:58:04.660Z"
   },
   {
    "duration": 8,
    "start_time": "2025-03-27T10:58:05.131Z"
   },
   {
    "duration": 3,
    "start_time": "2025-03-27T10:58:05.141Z"
   },
   {
    "duration": 6,
    "start_time": "2025-03-27T10:58:05.146Z"
   },
   {
    "duration": 383,
    "start_time": "2025-03-27T10:58:05.154Z"
   },
   {
    "duration": 328,
    "start_time": "2025-03-27T10:58:05.539Z"
   },
   {
    "duration": 255,
    "start_time": "2025-03-27T10:58:05.870Z"
   },
   {
    "duration": 20,
    "start_time": "2025-03-27T10:58:06.126Z"
   },
   {
    "duration": 18,
    "start_time": "2025-03-27T10:58:06.148Z"
   },
   {
    "duration": 15,
    "start_time": "2025-03-27T10:58:06.167Z"
   },
   {
    "duration": 4,
    "start_time": "2025-03-27T10:58:06.183Z"
   },
   {
    "duration": 5,
    "start_time": "2025-03-27T10:58:06.188Z"
   },
   {
    "duration": 4,
    "start_time": "2025-03-27T10:58:06.194Z"
   },
   {
    "duration": 32,
    "start_time": "2025-03-27T10:58:06.201Z"
   },
   {
    "duration": 4,
    "start_time": "2025-03-27T10:58:06.234Z"
   },
   {
    "duration": 2069,
    "start_time": "2025-03-27T10:58:11.120Z"
   },
   {
    "duration": 30019,
    "start_time": "2025-03-27T10:59:07.588Z"
   },
   {
    "duration": 2,
    "start_time": "2025-03-27T11:01:09.490Z"
   },
   {
    "duration": 109690,
    "start_time": "2025-03-27T11:01:19.672Z"
   },
   {
    "duration": 3,
    "start_time": "2025-03-27T11:04:07.631Z"
   },
   {
    "duration": 90253,
    "start_time": "2025-03-27T11:04:09.900Z"
   },
   {
    "duration": 3,
    "start_time": "2025-03-27T11:05:40.156Z"
   },
   {
    "duration": 2063,
    "start_time": "2025-03-27T11:06:23.381Z"
   },
   {
    "duration": 9,
    "start_time": "2025-03-27T11:06:34.030Z"
   },
   {
    "duration": 171,
    "start_time": "2025-03-27T11:06:39.863Z"
   },
   {
    "duration": 137,
    "start_time": "2025-03-27T11:06:42.206Z"
   },
   {
    "duration": 2715,
    "start_time": "2025-03-27T12:33:16.934Z"
   },
   {
    "duration": 2,
    "start_time": "2025-03-27T12:33:19.652Z"
   },
   {
    "duration": 6,
    "start_time": "2025-03-27T12:33:19.655Z"
   },
   {
    "duration": 32,
    "start_time": "2025-03-27T12:33:19.663Z"
   },
   {
    "duration": 8,
    "start_time": "2025-03-27T12:33:19.697Z"
   },
   {
    "duration": 7,
    "start_time": "2025-03-27T12:33:19.707Z"
   },
   {
    "duration": 3,
    "start_time": "2025-03-27T12:33:19.716Z"
   },
   {
    "duration": 4,
    "start_time": "2025-03-27T12:33:19.721Z"
   },
   {
    "duration": 6,
    "start_time": "2025-03-27T12:33:19.726Z"
   },
   {
    "duration": 10,
    "start_time": "2025-03-27T12:33:19.735Z"
   },
   {
    "duration": 47,
    "start_time": "2025-03-27T12:33:19.747Z"
   },
   {
    "duration": 476,
    "start_time": "2025-03-27T12:33:19.795Z"
   },
   {
    "duration": 321,
    "start_time": "2025-03-27T12:33:20.273Z"
   },
   {
    "duration": 470,
    "start_time": "2025-03-27T12:33:20.596Z"
   },
   {
    "duration": 19,
    "start_time": "2025-03-27T12:33:21.067Z"
   },
   {
    "duration": 4,
    "start_time": "2025-03-27T12:33:21.089Z"
   },
   {
    "duration": 8,
    "start_time": "2025-03-27T12:33:21.094Z"
   },
   {
    "duration": 387,
    "start_time": "2025-03-27T12:33:21.104Z"
   },
   {
    "duration": 332,
    "start_time": "2025-03-27T12:33:21.493Z"
   },
   {
    "duration": 257,
    "start_time": "2025-03-27T12:33:21.826Z"
   },
   {
    "duration": 7,
    "start_time": "2025-03-27T12:33:22.087Z"
   },
   {
    "duration": 17,
    "start_time": "2025-03-27T12:33:22.095Z"
   },
   {
    "duration": 14,
    "start_time": "2025-03-27T12:33:22.113Z"
   },
   {
    "duration": 3,
    "start_time": "2025-03-27T12:33:22.128Z"
   },
   {
    "duration": 5,
    "start_time": "2025-03-27T12:33:22.133Z"
   },
   {
    "duration": 4,
    "start_time": "2025-03-27T12:33:22.139Z"
   },
   {
    "duration": 4,
    "start_time": "2025-03-27T12:33:22.144Z"
   },
   {
    "duration": 3,
    "start_time": "2025-03-27T12:33:22.186Z"
   },
   {
    "duration": 30373,
    "start_time": "2025-03-27T12:33:22.190Z"
   },
   {
    "duration": 3,
    "start_time": "2025-03-27T12:33:52.566Z"
   },
   {
    "duration": 110054,
    "start_time": "2025-03-27T12:33:52.571Z"
   },
   {
    "duration": 3,
    "start_time": "2025-03-27T12:35:42.686Z"
   },
   {
    "duration": 93302,
    "start_time": "2025-03-27T12:35:42.691Z"
   },
   {
    "duration": 3,
    "start_time": "2025-03-27T12:37:15.994Z"
   },
   {
    "duration": 2194,
    "start_time": "2025-03-27T12:37:16.000Z"
   },
   {
    "duration": 3,
    "start_time": "2025-03-27T12:37:18.196Z"
   },
   {
    "duration": 10,
    "start_time": "2025-03-27T12:37:18.201Z"
   },
   {
    "duration": 379,
    "start_time": "2025-03-27T12:37:18.213Z"
   },
   {
    "duration": 4,
    "start_time": "2025-03-27T12:37:30.559Z"
   },
   {
    "duration": 3,
    "start_time": "2025-03-27T12:37:30.565Z"
   },
   {
    "duration": 3,
    "start_time": "2025-03-27T12:37:30.570Z"
   },
   {
    "duration": 19,
    "start_time": "2025-03-27T12:37:30.575Z"
   },
   {
    "duration": 8,
    "start_time": "2025-03-27T12:37:30.598Z"
   },
   {
    "duration": 6,
    "start_time": "2025-03-27T12:37:30.608Z"
   },
   {
    "duration": 3,
    "start_time": "2025-03-27T12:37:30.615Z"
   },
   {
    "duration": 4,
    "start_time": "2025-03-27T12:37:30.620Z"
   },
   {
    "duration": 6,
    "start_time": "2025-03-27T12:37:30.625Z"
   },
   {
    "duration": 10,
    "start_time": "2025-03-27T12:37:30.633Z"
   },
   {
    "duration": 44,
    "start_time": "2025-03-27T12:37:30.644Z"
   },
   {
    "duration": 420,
    "start_time": "2025-03-27T12:37:30.690Z"
   },
   {
    "duration": 318,
    "start_time": "2025-03-27T12:37:31.112Z"
   },
   {
    "duration": 509,
    "start_time": "2025-03-27T12:37:31.433Z"
   },
   {
    "duration": 9,
    "start_time": "2025-03-27T12:37:31.944Z"
   },
   {
    "duration": 3,
    "start_time": "2025-03-27T12:37:31.955Z"
   },
   {
    "duration": 7,
    "start_time": "2025-03-27T12:37:31.959Z"
   },
   {
    "duration": 339,
    "start_time": "2025-03-27T12:37:31.968Z"
   },
   {
    "duration": 380,
    "start_time": "2025-03-27T12:37:32.309Z"
   },
   {
    "duration": 255,
    "start_time": "2025-03-27T12:37:32.691Z"
   },
   {
    "duration": 8,
    "start_time": "2025-03-27T12:37:32.948Z"
   },
   {
    "duration": 33,
    "start_time": "2025-03-27T12:37:32.957Z"
   },
   {
    "duration": 13,
    "start_time": "2025-03-27T12:37:32.992Z"
   },
   {
    "duration": 3,
    "start_time": "2025-03-27T12:37:33.007Z"
   },
   {
    "duration": 5,
    "start_time": "2025-03-27T12:37:33.012Z"
   },
   {
    "duration": 3,
    "start_time": "2025-03-27T12:37:33.018Z"
   },
   {
    "duration": 5,
    "start_time": "2025-03-27T12:37:33.023Z"
   },
   {
    "duration": 3,
    "start_time": "2025-03-27T12:37:33.030Z"
   },
   {
    "duration": 30374,
    "start_time": "2025-03-27T12:37:33.035Z"
   },
   {
    "duration": 3,
    "start_time": "2025-03-27T12:38:03.411Z"
   },
   {
    "duration": 110404,
    "start_time": "2025-03-27T12:38:03.417Z"
   },
   {
    "duration": 3,
    "start_time": "2025-03-27T12:39:53.824Z"
   }
  ],
  "kernelspec": {
   "display_name": "Python 3 (ipykernel)",
   "language": "python",
   "name": "python3"
  },
  "language_info": {
   "codemirror_mode": {
    "name": "ipython",
    "version": 3
   },
   "file_extension": ".py",
   "mimetype": "text/x-python",
   "name": "python",
   "nbconvert_exporter": "python",
   "pygments_lexer": "ipython3",
   "version": "3.12.7"
  },
  "toc": {
   "base_numbering": 1,
   "nav_menu": {},
   "number_sections": true,
   "sideBar": true,
   "skip_h1_title": true,
   "title_cell": "Table of Contents",
   "title_sidebar": "Contents",
   "toc_cell": false,
   "toc_position": {},
   "toc_section_display": true,
   "toc_window_display": false
  }
 },
 "nbformat": 4,
 "nbformat_minor": 4
}
